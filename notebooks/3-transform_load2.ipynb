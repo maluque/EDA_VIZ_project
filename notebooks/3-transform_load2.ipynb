{
 "cells": [
  {
   "cell_type": "markdown",
   "id": "5cabd69d",
   "metadata": {},
   "source": [
    "# Transform to Load into DDBB (2)\n",
    "\n",
    "I need to transform the datasets to adapt and load them into a DDBB"
   ]
  },
  {
   "cell_type": "markdown",
   "id": "a60e8f5b",
   "metadata": {},
   "source": [
    "0. Import modules\n",
    "1. Load clean dataframes\n",
    "2. MERGE AMAZON AND ASOS DATASETS"
   ]
  },
  {
   "cell_type": "markdown",
   "id": "14f1cff2",
   "metadata": {},
   "source": [
    "### 0. Import modules"
   ]
  },
  {
   "cell_type": "code",
   "execution_count": 30,
   "id": "fded50a6",
   "metadata": {},
   "outputs": [],
   "source": [
    "# Import modules etc\n",
    "\n",
    "import pandas as pd\n",
    "import numpy as np\n",
    "import re\n",
    "import random\n",
    "from unidecode import unidecode\n",
    "import re\n",
    "\n",
    "np.random.seed(42)\n",
    "pd.set_option('display.max_columns', None) # show all the columns\n",
    "\n",
    "import warnings\n",
    "warnings.filterwarnings('ignore') # ignorar warnings\n",
    "\n",
    "from src import dataanalysis_fun1 as mlg # Import my module\n",
    "\n",
    "####\n",
    "# import mysql.connector as conn\n",
    "# from sqlalchemy import create_engine"
   ]
  },
  {
   "cell_type": "markdown",
   "id": "e62b2e3a",
   "metadata": {},
   "source": [
    "## 1. Load clean dataframes"
   ]
  },
  {
   "cell_type": "code",
   "execution_count": 31,
   "id": "940f647e",
   "metadata": {},
   "outputs": [],
   "source": [
    "kaggle_clean = pd.read_csv('../data/clean/kaggle_clean.csv')\n",
    "asos_womenupperclothes_clean = pd.read_csv('../data/clean/asos_womenupperclothes_clean.csv')\n",
    "amz1_womentshirt_clean = pd.read_csv('../data/clean/amz1_womentshirt_clean.csv')"
   ]
  },
  {
   "cell_type": "code",
   "execution_count": 32,
   "id": "f1c5dced",
   "metadata": {},
   "outputs": [
    {
     "data": {
      "text/html": [
       "<div>\n",
       "<style scoped>\n",
       "    .dataframe tbody tr th:only-of-type {\n",
       "        vertical-align: middle;\n",
       "    }\n",
       "\n",
       "    .dataframe tbody tr th {\n",
       "        vertical-align: top;\n",
       "    }\n",
       "\n",
       "    .dataframe thead th {\n",
       "        text-align: right;\n",
       "    }\n",
       "</style>\n",
       "<table border=\"1\" class=\"dataframe\">\n",
       "  <thead>\n",
       "    <tr style=\"text-align: right;\">\n",
       "      <th></th>\n",
       "      <th>brand</th>\n",
       "      <th>description</th>\n",
       "      <th>price</th>\n",
       "      <th>colour</th>\n",
       "      <th>shop</th>\n",
       "    </tr>\n",
       "  </thead>\n",
       "  <tbody>\n",
       "    <tr>\n",
       "      <th>0</th>\n",
       "      <td>New Look</td>\n",
       "      <td>Top negro escalonado de manga larga con estamp...</td>\n",
       "      <td>16.99</td>\n",
       "      <td>negro</td>\n",
       "      <td>asos</td>\n",
       "    </tr>\n",
       "    <tr>\n",
       "      <th>1</th>\n",
       "      <td>Mamalicious</td>\n",
       "      <td>Top color ámbar dorado de manga larga con cuel...</td>\n",
       "      <td>45.99</td>\n",
       "      <td>dorado</td>\n",
       "      <td>asos</td>\n",
       "    </tr>\n",
       "    <tr>\n",
       "      <th>2</th>\n",
       "      <td>Mamalicious</td>\n",
       "      <td>Top amarillo de manga larga con cuello ancho d...</td>\n",
       "      <td>21.99</td>\n",
       "      <td>dorado</td>\n",
       "      <td>asos</td>\n",
       "    </tr>\n",
       "    <tr>\n",
       "      <th>3</th>\n",
       "      <td>Selected</td>\n",
       "      <td>Top marrón de manga larga con cuello alto de S...</td>\n",
       "      <td>31.99</td>\n",
       "      <td>marron</td>\n",
       "      <td>asos</td>\n",
       "    </tr>\n",
       "    <tr>\n",
       "      <th>4</th>\n",
       "      <td>Mamalicious</td>\n",
       "      <td>Top multicolor a rayas con cuello alto de punt...</td>\n",
       "      <td>40.99</td>\n",
       "      <td>multicolor</td>\n",
       "      <td>asos</td>\n",
       "    </tr>\n",
       "  </tbody>\n",
       "</table>\n",
       "</div>"
      ],
      "text/plain": [
       "         brand                                        description  price  \\\n",
       "0     New Look  Top negro escalonado de manga larga con estamp...  16.99   \n",
       "1  Mamalicious  Top color ámbar dorado de manga larga con cuel...  45.99   \n",
       "2  Mamalicious  Top amarillo de manga larga con cuello ancho d...  21.99   \n",
       "3     Selected  Top marrón de manga larga con cuello alto de S...  31.99   \n",
       "4  Mamalicious  Top multicolor a rayas con cuello alto de punt...  40.99   \n",
       "\n",
       "       colour  shop  \n",
       "0       negro  asos  \n",
       "1      dorado  asos  \n",
       "2      dorado  asos  \n",
       "3      marron  asos  \n",
       "4  multicolor  asos  "
      ]
     },
     "execution_count": 32,
     "metadata": {},
     "output_type": "execute_result"
    }
   ],
   "source": [
    "asos_womenupperclothes_clean[\"shop\"]=\"asos\"\n",
    "asos_womenupperclothes_clean.head()"
   ]
  },
  {
   "cell_type": "code",
   "execution_count": 33,
   "id": "55c6ee2b",
   "metadata": {
    "scrolled": true
   },
   "outputs": [
    {
     "data": {
      "text/html": [
       "<div>\n",
       "<style scoped>\n",
       "    .dataframe tbody tr th:only-of-type {\n",
       "        vertical-align: middle;\n",
       "    }\n",
       "\n",
       "    .dataframe tbody tr th {\n",
       "        vertical-align: top;\n",
       "    }\n",
       "\n",
       "    .dataframe thead th {\n",
       "        text-align: right;\n",
       "    }\n",
       "</style>\n",
       "<table border=\"1\" class=\"dataframe\">\n",
       "  <thead>\n",
       "    <tr style=\"text-align: right;\">\n",
       "      <th></th>\n",
       "      <th>brand</th>\n",
       "      <th>description</th>\n",
       "      <th>price</th>\n",
       "      <th>colour</th>\n",
       "      <th>shop</th>\n",
       "    </tr>\n",
       "  </thead>\n",
       "  <tbody>\n",
       "    <tr>\n",
       "      <th>0</th>\n",
       "      <td>Ranphee</td>\n",
       "      <td>Camisetas Túnica de Manga Larga para Mujer Blu...</td>\n",
       "      <td>25.99</td>\n",
       "      <td>negro</td>\n",
       "      <td>amazon</td>\n",
       "    </tr>\n",
       "    <tr>\n",
       "      <th>1</th>\n",
       "      <td>ANGGREK</td>\n",
       "      <td>Mujer Verano Tops Casual Encaje Cuello en V Ca...</td>\n",
       "      <td>31.19</td>\n",
       "      <td>negro</td>\n",
       "      <td>amazon</td>\n",
       "    </tr>\n",
       "    <tr>\n",
       "      <th>2</th>\n",
       "      <td>GRMLRPT</td>\n",
       "      <td>2023 Camiseta de Manga 3/4 Mujer Moda Cuello e...</td>\n",
       "      <td>25.99</td>\n",
       "      <td>negro</td>\n",
       "      <td>amazon</td>\n",
       "    </tr>\n",
       "    <tr>\n",
       "      <th>3</th>\n",
       "      <td>Urban Classics</td>\n",
       "      <td>Ladies Extended Shoulder tee Camiseta para Mujer</td>\n",
       "      <td>11.90</td>\n",
       "      <td>negro</td>\n",
       "      <td>amazon</td>\n",
       "    </tr>\n",
       "    <tr>\n",
       "      <th>4</th>\n",
       "      <td>Only</td>\n",
       "      <td>Printed 3/4 Sleeved Top Suéter, Nero (Black/AO...</td>\n",
       "      <td>19.99</td>\n",
       "      <td>negro</td>\n",
       "      <td>amazon</td>\n",
       "    </tr>\n",
       "  </tbody>\n",
       "</table>\n",
       "</div>"
      ],
      "text/plain": [
       "            brand                                        description  price  \\\n",
       "0         Ranphee  Camisetas Túnica de Manga Larga para Mujer Blu...  25.99   \n",
       "1         ANGGREK  Mujer Verano Tops Casual Encaje Cuello en V Ca...  31.19   \n",
       "2         GRMLRPT  2023 Camiseta de Manga 3/4 Mujer Moda Cuello e...  25.99   \n",
       "3  Urban Classics   Ladies Extended Shoulder tee Camiseta para Mujer  11.90   \n",
       "4            Only  Printed 3/4 Sleeved Top Suéter, Nero (Black/AO...  19.99   \n",
       "\n",
       "  colour    shop  \n",
       "0  negro  amazon  \n",
       "1  negro  amazon  \n",
       "2  negro  amazon  \n",
       "3  negro  amazon  \n",
       "4  negro  amazon  "
      ]
     },
     "execution_count": 33,
     "metadata": {},
     "output_type": "execute_result"
    }
   ],
   "source": [
    "amz1_womentshirt_clean[\"shop\"]=\"amazon\"\n",
    "amz1_womentshirt_clean.head()"
   ]
  },
  {
   "cell_type": "markdown",
   "id": "eac94e32",
   "metadata": {},
   "source": [
    "## 2. Create 3 DFs `product`,  `costumer` and `sale`"
   ]
  },
  {
   "cell_type": "code",
   "execution_count": 34,
   "id": "9af57ea3",
   "metadata": {},
   "outputs": [],
   "source": [
    "product_df = pd.concat([asos_womenupperclothes_clean, amz1_womentshirt_clean], ignore_index=True)"
   ]
  },
  {
   "cell_type": "code",
   "execution_count": 35,
   "id": "098574c7",
   "metadata": {
    "scrolled": false
   },
   "outputs": [
    {
     "data": {
      "text/html": [
       "<div>\n",
       "<style scoped>\n",
       "    .dataframe tbody tr th:only-of-type {\n",
       "        vertical-align: middle;\n",
       "    }\n",
       "\n",
       "    .dataframe tbody tr th {\n",
       "        vertical-align: top;\n",
       "    }\n",
       "\n",
       "    .dataframe thead th {\n",
       "        text-align: right;\n",
       "    }\n",
       "</style>\n",
       "<table border=\"1\" class=\"dataframe\">\n",
       "  <thead>\n",
       "    <tr style=\"text-align: right;\">\n",
       "      <th></th>\n",
       "      <th>brand</th>\n",
       "      <th>description</th>\n",
       "      <th>price</th>\n",
       "      <th>colour</th>\n",
       "      <th>shop</th>\n",
       "      <th>product_id</th>\n",
       "    </tr>\n",
       "  </thead>\n",
       "  <tbody>\n",
       "    <tr>\n",
       "      <th>9123</th>\n",
       "      <td>&amp; Other Stories</td>\n",
       "      <td>Vestido corto rosa pastel con diseño bordado y...</td>\n",
       "      <td>54.0</td>\n",
       "      <td>rosa</td>\n",
       "      <td>asos</td>\n",
       "      <td>1</td>\n",
       "    </tr>\n",
       "    <tr>\n",
       "      <th>5153</th>\n",
       "      <td>&amp; Other Stories</td>\n",
       "      <td>Vestido corto azul cruzado de mezcla de lino d...</td>\n",
       "      <td>43.5</td>\n",
       "      <td>azul</td>\n",
       "      <td>asos</td>\n",
       "      <td>2</td>\n",
       "    </tr>\n",
       "    <tr>\n",
       "      <th>5154</th>\n",
       "      <td>&amp; Other Stories</td>\n",
       "      <td>Vestido midi blanco hueso con estampado de lun...</td>\n",
       "      <td>64.0</td>\n",
       "      <td>negro</td>\n",
       "      <td>asos</td>\n",
       "      <td>3</td>\n",
       "    </tr>\n",
       "    <tr>\n",
       "      <th>4741</th>\n",
       "      <td>&amp; Other Stories</td>\n",
       "      <td>Vestido corto verde de corte skater con estamp...</td>\n",
       "      <td>45.0</td>\n",
       "      <td>verde</td>\n",
       "      <td>asos</td>\n",
       "      <td>4</td>\n",
       "    </tr>\n",
       "    <tr>\n",
       "      <th>7461</th>\n",
       "      <td>&amp; Other Stories</td>\n",
       "      <td>Vestido corto con estampado a rayas de algodón...</td>\n",
       "      <td>36.5</td>\n",
       "      <td>multicolor</td>\n",
       "      <td>asos</td>\n",
       "      <td>5</td>\n",
       "    </tr>\n",
       "  </tbody>\n",
       "</table>\n",
       "</div>"
      ],
      "text/plain": [
       "                brand                                        description  \\\n",
       "9123  & Other Stories  Vestido corto rosa pastel con diseño bordado y...   \n",
       "5153  & Other Stories  Vestido corto azul cruzado de mezcla de lino d...   \n",
       "5154  & Other Stories  Vestido midi blanco hueso con estampado de lun...   \n",
       "4741  & Other Stories  Vestido corto verde de corte skater con estamp...   \n",
       "7461  & Other Stories  Vestido corto con estampado a rayas de algodón...   \n",
       "\n",
       "      price      colour  shop  product_id  \n",
       "9123   54.0        rosa  asos           1  \n",
       "5153   43.5        azul  asos           2  \n",
       "5154   64.0       negro  asos           3  \n",
       "4741   45.0       verde  asos           4  \n",
       "7461   36.5  multicolor  asos           5  "
      ]
     },
     "execution_count": 35,
     "metadata": {},
     "output_type": "execute_result"
    }
   ],
   "source": [
    "product_df = product_df.sort_values(by='brand', ascending=True)\n",
    "product_df[\"product_id\"]=range(1,len(product_df)+1)\n",
    "product_df.head()"
   ]
  },
  {
   "cell_type": "markdown",
   "id": "ee44736c",
   "metadata": {},
   "source": [
    "### 2.1 Classify products according to their description\n"
   ]
  },
  {
   "cell_type": "code",
   "execution_count": 36,
   "id": "67a8e9ee",
   "metadata": {},
   "outputs": [
    {
     "name": "stdout",
     "output_type": "stream",
     "text": [
      "134\n"
     ]
    }
   ],
   "source": [
    "product_df1=product_df.copy()\n",
    "product_df.head()\n",
    "\n",
    "type_dict={\"camiseta\":[\"camiseta\", \"shirt\", \"polo\", \"Camicetta\", \"manga larga\", \"camisola\", \"manica lunga\"],\n",
    "           \"top\": [\"top\"],\n",
    "           \"chaqueta\":[\"chaqueta\",\"sudadera\", \"jersey\", \"pulover\",\"pullover\", \"sueter\", \"polar\", \"cardigan\", \"casaca\"],\n",
    "           \"vestido\":[\"vestido\", \"tunica\", \"camison\"],\n",
    "           \"camisa\": [\"camisa\", \"blusa\", \"blouse\", \"bluse\"],\n",
    "           \"lenceria\":[\"lenceria\", \"sujetador\", \"corse\"],\n",
    "           \"chaleco\": [\"chaleco\"],\n",
    "          \"casacas sanitarias\": [\"casacas sanitarias\", \"uniformes sanitarios\", \"uniforme sanitario\", \"trabajo\"],\n",
    "           \"pantalones\": [\"pantalones\",  \"jeans\", \"vaqueros\"],\n",
    "          \"mallas\": [ \"leggings\", \"mallas\", \"joggers\", \"mallot\", \"leotardo\"],\n",
    "            \"falda\": [ \"falda\"],\n",
    "                       \"zapatos\": [ \"zapatos\"]\n",
    "          }\n",
    "                                                                          \n",
    "def color_dict_simplify(x):\n",
    "    x = x.lower()\n",
    "    x=unidecode(x) #Take out accentuation\n",
    "    theval=\"\"\n",
    "    for KKK, VVV in type_dict.items():\n",
    "        for VAL in VVV:\n",
    "            if VAL.lower() in x:\n",
    "                theval = KKK\n",
    "            \n",
    "    return theval\n",
    "\n",
    "product_df1[\"type\"] = product_df1['description'].apply(color_dict_simplify)\n",
    "\n",
    "print(len(product_df1[product_df1[\"type\"]==\"\"]))"
   ]
  },
  {
   "cell_type": "markdown",
   "id": "cc140637",
   "metadata": {},
   "source": [
    "#### Only 134 products remained without `type` classification"
   ]
  },
  {
   "cell_type": "code",
   "execution_count": 37,
   "id": "70c5fc0f",
   "metadata": {},
   "outputs": [
    {
     "data": {
      "text/plain": [
       "vestido               7192\n",
       "camisa                6700\n",
       "camiseta              6457\n",
       "top                   2622\n",
       "chaleco                648\n",
       "casacas sanitarias     538\n",
       "chaqueta               439\n",
       "pantalones             143\n",
       "falda                  139\n",
       "lenceria               137\n",
       "                       134\n",
       "mallas                  29\n",
       "zapatos                  6\n",
       "Name: type, dtype: int64"
      ]
     },
     "execution_count": 37,
     "metadata": {},
     "output_type": "execute_result"
    }
   ],
   "source": [
    "product_df1[\"type\"].value_counts()"
   ]
  },
  {
   "cell_type": "markdown",
   "id": "081ed215",
   "metadata": {},
   "source": [
    "### 2.2  Divide price of Packs"
   ]
  },
  {
   "cell_type": "code",
   "execution_count": 109,
   "id": "a1df87ac",
   "metadata": {},
   "outputs": [],
   "source": [
    "product_df2=product_df1.copy()\n",
    "pack_dict={\"pack\":[\"pack\", \"packs\"]}\n",
    "\n",
    "\n",
    "def subset_pack(x):\n",
    "    x = x.lower()\n",
    "    x=unidecode(x)\n",
    "    theval=1\n",
    "    for KKK, VVV in pack_dict.items():\n",
    "        for VAL in VVV:\n",
    "            if VAL.lower() in x: # the item is actually a pack\n",
    "                #find the number of elements and divide the price\n",
    "                digits_list = re.findall(r'\\b\\d\\b', x)\n",
    "\n",
    "                numeric_values = [int(digit) for digit in digits_list]\n",
    "                if numeric_values:\n",
    "                    theval = min(numeric_values)\n",
    "                    #if theval == 0:\n",
    "                    #    print(digits_only, x)\n",
    "                else:\n",
    "                    theval=1\n",
    "\n",
    "    return theval\n",
    "\n",
    "product_df2[\"price_pack\"]=product_df2['description'].apply(subset_pack)\n"
   ]
  },
  {
   "cell_type": "markdown",
   "id": "87b76966",
   "metadata": {},
   "source": [
    "There are 2 rows including the term \"pack\" but actually being only a single product.<br/>\n",
    "These have a price_pack = 0, what returns and inf. <br/> Manually modify them to original price"
   ]
  },
  {
   "cell_type": "code",
   "execution_count": 110,
   "id": "d36a8606",
   "metadata": {},
   "outputs": [
    {
     "data": {
      "text/plain": [
       "False"
      ]
     },
     "execution_count": 110,
     "metadata": {},
     "output_type": "execute_result"
    }
   ],
   "source": [
    "zeroval=product_df2[\"price_pack\"]==0\n",
    "product_df2.loc[zeroval, 'price_pack'] = 1\n",
    "\n",
    "product_df2[\"price_pack\"]=product_df2[\"price\"]/product_df2[\"price_pack\"]\n",
    "\n",
    "nan_inf_mask = product_df2[\"price_pack\"].isin([np.nan, np.inf, -np.inf])\n",
    "any(nan_inf_mask)"
   ]
  },
  {
   "cell_type": "markdown",
   "id": "3ceff365",
   "metadata": {},
   "source": [
    "## Check for duplicates \n",
    "\n",
    "We expect to have the **same product with the same description for different colors**. <br/>\n",
    "**That is indeed the point of the EDA**, to check whether the color affects to the final product price."
   ]
  },
  {
   "cell_type": "code",
   "execution_count": 118,
   "id": "14d99ee5",
   "metadata": {},
   "outputs": [
    {
     "data": {
      "text/html": [
       "<div>\n",
       "<style scoped>\n",
       "    .dataframe tbody tr th:only-of-type {\n",
       "        vertical-align: middle;\n",
       "    }\n",
       "\n",
       "    .dataframe tbody tr th {\n",
       "        vertical-align: top;\n",
       "    }\n",
       "\n",
       "    .dataframe thead th {\n",
       "        text-align: right;\n",
       "    }\n",
       "</style>\n",
       "<table border=\"1\" class=\"dataframe\">\n",
       "  <thead>\n",
       "    <tr style=\"text-align: right;\">\n",
       "      <th></th>\n",
       "      <th>brand</th>\n",
       "      <th>description</th>\n",
       "      <th>price</th>\n",
       "      <th>colour</th>\n",
       "      <th>shop</th>\n",
       "      <th>product_id</th>\n",
       "      <th>type</th>\n",
       "      <th>price_pack</th>\n",
       "    </tr>\n",
       "  </thead>\n",
       "  <tbody>\n",
       "  </tbody>\n",
       "</table>\n",
       "</div>"
      ],
      "text/plain": [
       "Empty DataFrame\n",
       "Columns: [brand, description, price, colour, shop, product_id, type, price_pack]\n",
       "Index: []"
      ]
     },
     "execution_count": 118,
     "metadata": {},
     "output_type": "execute_result"
    }
   ],
   "source": [
    "product_complete[product_complete.duplicated()]"
   ]
  },
  {
   "cell_type": "code",
   "execution_count": 119,
   "id": "58672606",
   "metadata": {},
   "outputs": [],
   "source": [
    "product_complete=product_df2.reset_index(drop=True)\n",
    "product_complete.index=product_complete.index+1\n",
    "product_simple=product_complete[[\"brand\", \"colour\", \"shop\", \"product_id\", \"type\", \"price_pack\"]]"
   ]
  },
  {
   "cell_type": "markdown",
   "id": "370faf86",
   "metadata": {},
   "source": [
    "## 3. Save `products` df\n",
    "\n",
    "* `complete` info of products: including description and original price\n",
    "* `simple` info of products: only brand, type, and price divided by pack #\n",
    "\n",
    "\n",
    "The lines are commented to avoid overwriting"
   ]
  },
  {
   "cell_type": "code",
   "execution_count": 120,
   "id": "099c6602",
   "metadata": {},
   "outputs": [],
   "source": [
    "#product_simple.to_csv('../data/clean/product_simple.csv', index=False)\n",
    "#product_complete.to_csv('../data/clean/product_complete.csv', index=False)"
   ]
  },
  {
   "cell_type": "markdown",
   "id": "cd9e0d7f",
   "metadata": {},
   "source": [
    "## 4. Create `customer_df` and `sale_df` from `kaggle_clean`\n",
    "\n",
    "\n",
    "* Kaggle dataset is an artificial set that recreates shopping info.\n",
    "* We will exploit this data and insert additional data to perform a prototype of ETL/EDA project."
   ]
  },
  {
   "cell_type": "markdown",
   "id": "db0b24ed",
   "metadata": {},
   "source": [
    "* Kaggle table collects data for **3900 artifical clients**\n",
    "* **To make it more interesting,**  we will insert in `customer_df` artificial personal info as `horoscope`, `blood type` or wheteher the costumer is a `cat/dog_type` person."
   ]
  },
  {
   "cell_type": "code",
   "execution_count": null,
   "id": "81821c60",
   "metadata": {},
   "outputs": [],
   "source": [
    "kaggle_clean.head()"
   ]
  },
  {
   "cell_type": "code",
   "execution_count": 175,
   "id": "47409134",
   "metadata": {},
   "outputs": [],
   "source": [
    "customer_df=kaggle_clean[[\"customer_id\", \"age\", \"gender\", \"location\"]]\n",
    "customer_df[\"horoscope\"]=\"\"\n",
    "customer_df[\"blood\"]=\"\"\n",
    "customer_df[\"catdog\"]=\"\""
   ]
  },
  {
   "cell_type": "code",
   "execution_count": 176,
   "id": "e5781d9d",
   "metadata": {},
   "outputs": [],
   "source": [
    "horoscope = [\n",
    "    'Aries',\n",
    "    'Taurus',\n",
    "    'Gemini',\n",
    "    'Cancer',\n",
    "    'Leo',\n",
    "    'Virgo',\n",
    "    'Libra',\n",
    "    'Scorpio',\n",
    "    'Sagittarius',\n",
    "    'Capricorn',\n",
    "    'Aquarius',\n",
    "    'Pisces'\n",
    "]\n",
    "\n",
    "catdog = [\n",
    "    'cat',\n",
    "    'dog',\n",
    "    \"none\"\n",
    "]\n",
    "\n",
    "blood = [\n",
    "    'A',\n",
    "    'B',\n",
    "    'AB',\n",
    "    'O'\n",
    "]\n",
    "\n",
    "\n",
    "for i in range(len(customer_df)):\n",
    "    customer_df[\"horoscope\"][i]=random.choice(horoscope)\n",
    "    customer_df[\"catdog\"][i]=random.choice(catdog)\n",
    "    customer_df[\"blood\"][i]=random.choice(blood)"
   ]
  },
  {
   "cell_type": "markdown",
   "id": "be8c1a9b",
   "metadata": {},
   "source": [
    "In `sales_df` we will introduce randomly the customer info.\n",
    "\n",
    "We have data for 3900 clients and >25,000 products\n",
    "\n",
    "* **We must ensure that all clients shop at least one product**\n",
    "* FOR THE FUTURE Preferably some clients will shop more than one product\n",
    "* FOR THE FUTURE Some products will not be bought by any customer"
   ]
  },
  {
   "cell_type": "code",
   "execution_count": 228,
   "id": "357e4d62",
   "metadata": {},
   "outputs": [],
   "source": [
    "sale_df=kaggle_clean[[\"customer_id\", \"payment_method\", \"review_rating\", \"season\"]]\n",
    "sale_df[\"product_id\"]=\"\""
   ]
  },
  {
   "cell_type": "markdown",
   "id": "d864b1e5",
   "metadata": {},
   "source": [
    "### 4.1 Add to `sale_df` randomly chosen values of `product_ids` from `product_df`"
   ]
  },
  {
   "cell_type": "code",
   "execution_count": 230,
   "id": "7b1245d5",
   "metadata": {},
   "outputs": [],
   "source": [
    "for i in range(len(sale_df)):\n",
    "    sale_df[\"product_id\"][i]=random.choice(product_simple.product_id)"
   ]
  },
  {
   "cell_type": "markdown",
   "id": "d48fe630",
   "metadata": {},
   "source": [
    "#### There are multiple products absent in `sale_df` (i.e., not selled products)\n",
    "\n",
    "It is expected, it is just an observation"
   ]
  },
  {
   "cell_type": "code",
   "execution_count": 232,
   "id": "a1d3052b",
   "metadata": {
    "scrolled": false
   },
   "outputs": [
    {
     "name": "stdout",
     "output_type": "stream",
     "text": [
      "0 21583\n"
     ]
    }
   ],
   "source": [
    "AA=set(sale_df[\"product_id\"]).difference(set(product_simple[\"product_id\"]))\n",
    "BB=set(product_simple[\"product_id\"]).difference(set(sale_df[\"product_id\"]))\n",
    "print(len(AA), len(BB))"
   ]
  },
  {
   "cell_type": "markdown",
   "id": "2f6208de",
   "metadata": {},
   "source": [
    "#### All the customers have a sale_id!"
   ]
  },
  {
   "cell_type": "code",
   "execution_count": 233,
   "id": "d0b90ead",
   "metadata": {
    "scrolled": true
   },
   "outputs": [
    {
     "name": "stdout",
     "output_type": "stream",
     "text": [
      "0 0\n"
     ]
    }
   ],
   "source": [
    "AA=set(sale_df[\"customer_id\"]).difference(set(customer_df[\"customer_id\"]))\n",
    "BB=set(customer_df[\"customer_id\"]).difference(set(sale_df[\"customer_id\"]))\n",
    "print(len(AA), len(BB))"
   ]
  },
  {
   "cell_type": "markdown",
   "id": "421407b0",
   "metadata": {},
   "source": [
    "## 5.  `customer_df` and `sale_df`\n",
    "\n",
    "The lines are commented to avoid overwriting"
   ]
  },
  {
   "cell_type": "code",
   "execution_count": 235,
   "id": "b907b7b8",
   "metadata": {},
   "outputs": [],
   "source": [
    "#customer_df.to_csv('../data/clean/customer_df.csv', index=False)\n",
    "#sale_df.to_csv('../data/clean/sale_df.csv', index=False)"
   ]
  },
  {
   "cell_type": "code",
   "execution_count": 248,
   "id": "3e21cc56",
   "metadata": {},
   "outputs": [
    {
     "data": {
      "text/html": [
       "<div>\n",
       "<style scoped>\n",
       "    .dataframe tbody tr th:only-of-type {\n",
       "        vertical-align: middle;\n",
       "    }\n",
       "\n",
       "    .dataframe tbody tr th {\n",
       "        vertical-align: top;\n",
       "    }\n",
       "\n",
       "    .dataframe thead th {\n",
       "        text-align: right;\n",
       "    }\n",
       "</style>\n",
       "<table border=\"1\" class=\"dataframe\">\n",
       "  <thead>\n",
       "    <tr style=\"text-align: right;\">\n",
       "      <th></th>\n",
       "      <th>brand</th>\n",
       "      <th>colour</th>\n",
       "      <th>shop</th>\n",
       "      <th>product_id</th>\n",
       "      <th>type</th>\n",
       "      <th>price_pack</th>\n",
       "    </tr>\n",
       "  </thead>\n",
       "  <tbody>\n",
       "    <tr>\n",
       "      <th>1</th>\n",
       "      <td>&amp; Other Stories</td>\n",
       "      <td>rosa</td>\n",
       "      <td>asos</td>\n",
       "      <td>1</td>\n",
       "      <td>vestido</td>\n",
       "      <td>54.00</td>\n",
       "    </tr>\n",
       "    <tr>\n",
       "      <th>2</th>\n",
       "      <td>&amp; Other Stories</td>\n",
       "      <td>azul</td>\n",
       "      <td>asos</td>\n",
       "      <td>2</td>\n",
       "      <td>vestido</td>\n",
       "      <td>43.50</td>\n",
       "    </tr>\n",
       "    <tr>\n",
       "      <th>3</th>\n",
       "      <td>&amp; Other Stories</td>\n",
       "      <td>negro</td>\n",
       "      <td>asos</td>\n",
       "      <td>3</td>\n",
       "      <td>vestido</td>\n",
       "      <td>64.00</td>\n",
       "    </tr>\n",
       "    <tr>\n",
       "      <th>4</th>\n",
       "      <td>&amp; Other Stories</td>\n",
       "      <td>verde</td>\n",
       "      <td>asos</td>\n",
       "      <td>4</td>\n",
       "      <td>vestido</td>\n",
       "      <td>45.00</td>\n",
       "    </tr>\n",
       "    <tr>\n",
       "      <th>5</th>\n",
       "      <td>&amp; Other Stories</td>\n",
       "      <td>multicolor</td>\n",
       "      <td>asos</td>\n",
       "      <td>5</td>\n",
       "      <td>vestido</td>\n",
       "      <td>36.50</td>\n",
       "    </tr>\n",
       "    <tr>\n",
       "      <th>...</th>\n",
       "      <td>...</td>\n",
       "      <td>...</td>\n",
       "      <td>...</td>\n",
       "      <td>...</td>\n",
       "      <td>...</td>\n",
       "      <td>...</td>\n",
       "    </tr>\n",
       "    <tr>\n",
       "      <th>25180</th>\n",
       "      <td>yeyity</td>\n",
       "      <td>blanco</td>\n",
       "      <td>amazon</td>\n",
       "      <td>25180</td>\n",
       "      <td>camisa</td>\n",
       "      <td>42.99</td>\n",
       "    </tr>\n",
       "    <tr>\n",
       "      <th>25181</th>\n",
       "      <td>yiouyisheng</td>\n",
       "      <td>amarillo</td>\n",
       "      <td>amazon</td>\n",
       "      <td>25181</td>\n",
       "      <td>camiseta</td>\n",
       "      <td>9.98</td>\n",
       "    </tr>\n",
       "    <tr>\n",
       "      <th>25182</th>\n",
       "      <td>yiouyisheng</td>\n",
       "      <td>morado</td>\n",
       "      <td>amazon</td>\n",
       "      <td>25182</td>\n",
       "      <td>top</td>\n",
       "      <td>11.99</td>\n",
       "    </tr>\n",
       "    <tr>\n",
       "      <th>25183</th>\n",
       "      <td>yiouyisheng</td>\n",
       "      <td>turquesa</td>\n",
       "      <td>amazon</td>\n",
       "      <td>25183</td>\n",
       "      <td>camisa</td>\n",
       "      <td>8.99</td>\n",
       "    </tr>\n",
       "    <tr>\n",
       "      <th>25184</th>\n",
       "      <td>yiouyisheng</td>\n",
       "      <td>dorado</td>\n",
       "      <td>amazon</td>\n",
       "      <td>25184</td>\n",
       "      <td>chaleco</td>\n",
       "      <td>24.99</td>\n",
       "    </tr>\n",
       "  </tbody>\n",
       "</table>\n",
       "<p>25184 rows × 6 columns</p>\n",
       "</div>"
      ],
      "text/plain": [
       "                 brand      colour    shop  product_id      type  price_pack\n",
       "1      & Other Stories        rosa    asos           1   vestido       54.00\n",
       "2      & Other Stories        azul    asos           2   vestido       43.50\n",
       "3      & Other Stories       negro    asos           3   vestido       64.00\n",
       "4      & Other Stories       verde    asos           4   vestido       45.00\n",
       "5      & Other Stories  multicolor    asos           5   vestido       36.50\n",
       "...                ...         ...     ...         ...       ...         ...\n",
       "25180           yeyity      blanco  amazon       25180    camisa       42.99\n",
       "25181      yiouyisheng    amarillo  amazon       25181  camiseta        9.98\n",
       "25182      yiouyisheng      morado  amazon       25182       top       11.99\n",
       "25183      yiouyisheng    turquesa  amazon       25183    camisa        8.99\n",
       "25184      yiouyisheng      dorado  amazon       25184   chaleco       24.99\n",
       "\n",
       "[25184 rows x 6 columns]"
      ]
     },
     "execution_count": 248,
     "metadata": {},
     "output_type": "execute_result"
    }
   ],
   "source": [
    "product_simple\n",
    "#customer_df"
   ]
  },
  {
   "cell_type": "markdown",
   "id": "d5989afe",
   "metadata": {},
   "source": [
    "## 6. Save as a single Excel file"
   ]
  },
  {
   "cell_type": "code",
   "execution_count": 265,
   "id": "7eca5674",
   "metadata": {},
   "outputs": [],
   "source": [
    "# Assuming df1, df2, and df3 are your DataFrames\n",
    "\n",
    "# Create an Excel writer\n",
    "excel_writer = pd.ExcelWriter('color.xlsx')\n",
    "\n",
    "# Write each DataFrame to a different sheet\n",
    "product_simple.to_excel(excel_writer, sheet_name='product', index=False)\n",
    "customer_df.to_excel(excel_writer, sheet_name='customer', index=False)\n",
    "sale_df.to_excel(excel_writer, sheet_name='sale', index=False)\n",
    "\n",
    "# Save the Excel file\n",
    "excel_writer.save()\n"
   ]
  },
  {
   "cell_type": "markdown",
   "id": "2b8c57e7",
   "metadata": {},
   "source": [
    "## 7. Load and work with python - mySQL"
   ]
  },
  {
   "cell_type": "code",
   "execution_count": 249,
   "id": "7fb1b87f",
   "metadata": {},
   "outputs": [],
   "source": [
    "file_path = \"../notebooks/temp/logs/PASSES.py\"\n",
    "\n",
    "# Create an empty namespace (dictionary) to store variables\n",
    "namespace = {}\n",
    "\n",
    "# Execute the Python file and populate the namespace\n",
    "with open(file_path, \"r\") as reader:\n",
    "    exec(reader.read(), namespace)\n",
    "\n",
    "# Access the imported variable\n",
    "SQL = namespace.get(\"SQL\")\n",
    "\n",
    "len(SQL)\n",
    "DDBB=\"colors\""
   ]
  },
  {
   "cell_type": "markdown",
   "id": "f0d0fa0e",
   "metadata": {},
   "source": [
    "### SqlAlchemy\n",
    "\n",
    "\n",
    "* Create EER Diagram in mySQL workbench\n",
    "* Load data (csv)"
   ]
  },
  {
   "cell_type": "code",
   "execution_count": 259,
   "id": "5fc7ab5e",
   "metadata": {},
   "outputs": [],
   "source": [
    "str_conn = 'mysql+pymysql://root:' + SQL + '@localhost:3306/'+ DDBB\n",
    "cursor = create_engine(str_conn)"
   ]
  },
  {
   "cell_type": "code",
   "execution_count": 260,
   "id": "e545ca22",
   "metadata": {},
   "outputs": [],
   "source": [
    "product_simple.to_sql(name='product',      # nombre de la tabla\n",
    "            con=cursor,          # conexion al servidor\n",
    "            if_exists='append',  # reemplaza la tabla si existe\n",
    "            index=False)"
   ]
  },
  {
   "cell_type": "code",
   "execution_count": 261,
   "id": "3b814e66",
   "metadata": {
    "scrolled": false
   },
   "outputs": [],
   "source": [
    "\n",
    "customer_df.to_sql(name='customer',      # nombre de la tabla\n",
    "            con=cursor,          # conexion al servidor\n",
    "            if_exists='append',  # reemplaza la tabla si existe\n",
    "            index=False)\n",
    "\n"
   ]
  },
  {
   "cell_type": "markdown",
   "id": "650de0f7",
   "metadata": {},
   "source": [
    "### Change the foreign key colnames\n",
    "\n",
    "* MySQL Workbench modifies the column names of foreign keys when making the relation with their PKs\n",
    "* We need to change these names in jupyter too to avoid mismatches"
   ]
  },
  {
   "cell_type": "code",
   "execution_count": 253,
   "id": "4c210d1b",
   "metadata": {},
   "outputs": [
    {
     "data": {
      "text/html": [
       "<div>\n",
       "<style scoped>\n",
       "    .dataframe tbody tr th:only-of-type {\n",
       "        vertical-align: middle;\n",
       "    }\n",
       "\n",
       "    .dataframe tbody tr th {\n",
       "        vertical-align: top;\n",
       "    }\n",
       "\n",
       "    .dataframe thead th {\n",
       "        text-align: right;\n",
       "    }\n",
       "</style>\n",
       "<table border=\"1\" class=\"dataframe\">\n",
       "  <thead>\n",
       "    <tr style=\"text-align: right;\">\n",
       "      <th></th>\n",
       "      <th>customer_id</th>\n",
       "      <th>payment_method</th>\n",
       "      <th>review_rating</th>\n",
       "      <th>season</th>\n",
       "      <th>product_id</th>\n",
       "    </tr>\n",
       "  </thead>\n",
       "  <tbody>\n",
       "    <tr>\n",
       "      <th>0</th>\n",
       "      <td>1</td>\n",
       "      <td>Venmo</td>\n",
       "      <td>3.1</td>\n",
       "      <td>Winter</td>\n",
       "      <td>18767</td>\n",
       "    </tr>\n",
       "    <tr>\n",
       "      <th>1</th>\n",
       "      <td>2</td>\n",
       "      <td>Cash</td>\n",
       "      <td>3.1</td>\n",
       "      <td>Winter</td>\n",
       "      <td>18406</td>\n",
       "    </tr>\n",
       "    <tr>\n",
       "      <th>2</th>\n",
       "      <td>3</td>\n",
       "      <td>Credit Card</td>\n",
       "      <td>3.1</td>\n",
       "      <td>Spring</td>\n",
       "      <td>20171</td>\n",
       "    </tr>\n",
       "    <tr>\n",
       "      <th>3</th>\n",
       "      <td>4</td>\n",
       "      <td>PayPal</td>\n",
       "      <td>3.5</td>\n",
       "      <td>Spring</td>\n",
       "      <td>2660</td>\n",
       "    </tr>\n",
       "    <tr>\n",
       "      <th>4</th>\n",
       "      <td>5</td>\n",
       "      <td>PayPal</td>\n",
       "      <td>2.7</td>\n",
       "      <td>Spring</td>\n",
       "      <td>11151</td>\n",
       "    </tr>\n",
       "  </tbody>\n",
       "</table>\n",
       "</div>"
      ],
      "text/plain": [
       "   customer_id payment_method  review_rating  season product_id\n",
       "0            1          Venmo            3.1  Winter      18767\n",
       "1            2           Cash            3.1  Winter      18406\n",
       "2            3    Credit Card            3.1  Spring      20171\n",
       "3            4         PayPal            3.5  Spring       2660\n",
       "4            5         PayPal            2.7  Spring      11151"
      ]
     },
     "execution_count": 253,
     "metadata": {},
     "output_type": "execute_result"
    }
   ],
   "source": [
    "sale_df.head()"
   ]
  },
  {
   "cell_type": "code",
   "execution_count": 262,
   "id": "5cc4759b",
   "metadata": {},
   "outputs": [],
   "source": [
    "# Crea un diccionario para mapear nombres de columnas existentes a los nuevos nombres\n",
    "nuevos_nombres = {'customer_id': 'customer_customer_id', 'payment_method': 'payment_method',\n",
    "                 'review_rating': 'review_rating', 'season': 'season', 'product_id': 'product_product_id'}\n",
    "\n",
    "# Utiliza la función rename para cambiar los nombres de las columnas\n",
    "sale_df = sale_df.rename(columns=nuevos_nombres)"
   ]
  },
  {
   "cell_type": "code",
   "execution_count": 263,
   "id": "3b5b2894",
   "metadata": {},
   "outputs": [],
   "source": [
    "\n",
    "sale_df.to_sql(name='sale',      # nombre de la tabla\n",
    "            con=cursor,          # conexion al servidor\n",
    "            if_exists='append',  # reemplaza la tabla si existe\n",
    "            index=False)\n",
    "\n"
   ]
  },
  {
   "cell_type": "code",
   "execution_count": 312,
   "id": "855a60e4",
   "metadata": {},
   "outputs": [],
   "source": []
  }
 ],
 "metadata": {
  "kernelspec": {
   "display_name": "env37",
   "language": "python",
   "name": "env37"
  },
  "language_info": {
   "codemirror_mode": {
    "name": "ipython",
    "version": 3
   },
   "file_extension": ".py",
   "mimetype": "text/x-python",
   "name": "python",
   "nbconvert_exporter": "python",
   "pygments_lexer": "ipython3",
   "version": "3.7.16"
  }
 },
 "nbformat": 4,
 "nbformat_minor": 5
}
