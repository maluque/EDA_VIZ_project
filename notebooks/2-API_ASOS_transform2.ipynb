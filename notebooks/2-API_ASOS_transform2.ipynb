{
 "cells": [
  {
   "cell_type": "markdown",
   "id": "41e71f7f",
   "metadata": {},
   "source": [
    "# TRANSFORM\n",
    "# Cleaning raw data from Women clothes from ASOS API (2)\n",
    "\n",
    "Data was accessed through an API on 2023-11-04 (t-shirt category) and 2023-11-09 (the rest of categories)<br/>\n",
    "stored as a pickle file in `../../data/raw/ *** .pk`\n",
    "\n",
    "The raw datasets are json files with a very complex structure <br/>\n",
    "\n",
    "Now the data must be cleaned and transform to comply with the DDBB standards.\n",
    "\n",
    "--------\n",
    "\n",
    "Raw `asos_womentshirt_data` dataset has the following issues:\n",
    "\n",
    "\n",
    "* 1. Extract only relevant data **(brand, description, price, colour)**\n",
    "    \n",
    "* 2. ASOS dataset **486 names** for colours\n",
    "    * Normalize the color names using `mlg.namvector_clean`\n",
    "    * Simplify colour names according to the colors used by Amazon.es\n",
    "    * Use `../../data/raw/color_simplification.pkl` - A chatGPT generated dictionary to simplifify the colors returned by ASOS\n",
    "    * Transform rows with multiple color values transform to \"multicolor\"\n",
    "\n",
    "* 3. Clean `price` column\n",
    "* 4. Normalize brand names\n",
    "\n",
    "--------\n",
    "\n",
    "Save cleaned data in `../../data/clean/asos_womentshirt_data.pk`"
   ]
  },
  {
   "cell_type": "markdown",
   "id": "4b0693e1",
   "metadata": {},
   "source": [
    "### 0. Import the modules"
   ]
  },
  {
   "cell_type": "code",
   "execution_count": 1,
   "id": "645ccd3d",
   "metadata": {},
   "outputs": [],
   "source": [
    "import requests\n",
    "import time\n",
    "import pandas as pd\n",
    "import pickle\n",
    "import numpy as np\n",
    "import warnings\n",
    "warnings.filterwarnings('ignore') # ignorar warnings\n",
    "from src import dataanalysis_fun1 as mlg  #Import my module"
   ]
  },
  {
   "cell_type": "markdown",
   "id": "76d8b386",
   "metadata": {},
   "source": [
    "Reload my module if neccessary"
   ]
  },
  {
   "cell_type": "code",
   "execution_count": 186,
   "id": "d37ad064",
   "metadata": {},
   "outputs": [],
   "source": [
    "import importlib\n",
    "from src import dataanalysis_fun1 as mlg # Import the module\n",
    "#importlib.reload(mlg)  # Reload the module\n",
    "\n",
    "# Suppress warning when reloading the module\n",
    "with warnings.catch_warnings():\n",
    "    warnings.simplefilter(\"ignore\") \n",
    "    importlib.reload(mlg)  # Reload the module"
   ]
  },
  {
   "cell_type": "markdown",
   "id": "8729e08e",
   "metadata": {},
   "source": [
    "## 1. Load the data using pickle\n",
    "\n",
    "LOAD ADDITIONAL DATA FROM ASOS (DRESSES, TOPS AND SWEATSHIRTS)"
   ]
  },
  {
   "cell_type": "code",
   "execution_count": 187,
   "id": "6909971d",
   "metadata": {},
   "outputs": [],
   "source": [
    "# Now, let's load the object from the file\n",
    "with open('../../data/raw/asos_womentshirt_data.pkl', 'rb') as file:\n",
    "    asos_womentshirt_data = pickle.load(file)"
   ]
  },
  {
   "cell_type": "code",
   "execution_count": 188,
   "id": "81abb8dc",
   "metadata": {},
   "outputs": [],
   "source": [
    "# Now, let's load the object from the file\n",
    "with open('../../data/raw/asos_womentop_data.pkl', 'rb') as file:\n",
    "    asos_womentop_data = pickle.load(file)"
   ]
  },
  {
   "cell_type": "code",
   "execution_count": 189,
   "id": "d353e356",
   "metadata": {},
   "outputs": [],
   "source": [
    "# Now, let's load the object from the file\n",
    "with open('../../data/raw/asos_womentop_data.pkl', 'rb') as file:\n",
    "    asos_womentop_data = pickle.load(file)"
   ]
  },
  {
   "cell_type": "code",
   "execution_count": 190,
   "id": "d961360d",
   "metadata": {},
   "outputs": [],
   "source": [
    "# Now, let's load the object from the file\n",
    "with open('../../data/raw/asos_womendress_data.pkl', 'rb') as file:\n",
    "    asos_womendress_data = pickle.load(file)\n"
   ]
  },
  {
   "cell_type": "code",
   "execution_count": 191,
   "id": "c3ea389c",
   "metadata": {
    "scrolled": true
   },
   "outputs": [],
   "source": [
    "asos_raw1=asos_womentshirt_data\n",
    "asos_raw2=asos_womentop_data\n",
    "asos_raw3=asos_womentop_data\n",
    "asos_raw4=asos_womendress_data"
   ]
  },
  {
   "cell_type": "markdown",
   "id": "b10f4675",
   "metadata": {},
   "source": [
    "## 2. Transform (clean the data)\n",
    "\n",
    "#### Clean and extract relevant text\n",
    "\n",
    "The ultimate goal is, for each element, to keep only the `brand, product type, colour and price €` "
   ]
  },
  {
   "cell_type": "markdown",
   "id": "b9bf79a0",
   "metadata": {},
   "source": [
    "## 2.1 Join the datasets and parse them into DataFrame"
   ]
  },
  {
   "cell_type": "code",
   "execution_count": 362,
   "id": "7b87de31",
   "metadata": {},
   "outputs": [],
   "source": [
    "asos_raw_list=[asos_raw1,asos_raw2, asos_raw3, asos_raw4]"
   ]
  },
  {
   "cell_type": "code",
   "execution_count": 363,
   "id": "d3740360",
   "metadata": {},
   "outputs": [],
   "source": [
    "color_df_list=[]\n",
    "for ASOS in asos_raw_list:\n",
    "    thedf1=[[row[\"brandName\"], row[\"name\"],  row[\"price\"][\"current\"][\"text\"], row[\"colour\"]] for row in ASOS]\n",
    "    color_df=pd.DataFrame(thedf1,columns=[\"brand\", \"description\", \"price\", \"colour\"])\n",
    "    color_df_list.append(color_df)\n",
    "    \n",
    "ASOS_df = pd.concat(color_df_list, ignore_index=True)"
   ]
  },
  {
   "cell_type": "code",
   "execution_count": 364,
   "id": "6a28b547",
   "metadata": {
    "scrolled": true
   },
   "outputs": [
    {
     "data": {
      "text/html": [
       "<div>\n",
       "<style scoped>\n",
       "    .dataframe tbody tr th:only-of-type {\n",
       "        vertical-align: middle;\n",
       "    }\n",
       "\n",
       "    .dataframe tbody tr th {\n",
       "        vertical-align: top;\n",
       "    }\n",
       "\n",
       "    .dataframe thead th {\n",
       "        text-align: right;\n",
       "    }\n",
       "</style>\n",
       "<table border=\"1\" class=\"dataframe\">\n",
       "  <thead>\n",
       "    <tr style=\"text-align: right;\">\n",
       "      <th></th>\n",
       "      <th>index</th>\n",
       "      <th>brand</th>\n",
       "      <th>description</th>\n",
       "      <th>price</th>\n",
       "      <th>colour</th>\n",
       "    </tr>\n",
       "  </thead>\n",
       "  <tbody>\n",
       "    <tr>\n",
       "      <th>0</th>\n",
       "      <td>0</td>\n",
       "      <td>New Look</td>\n",
       "      <td>Top negro escalonado de manga larga con estamp...</td>\n",
       "      <td>16,99 €</td>\n",
       "      <td>Negro</td>\n",
       "    </tr>\n",
       "    <tr>\n",
       "      <th>1</th>\n",
       "      <td>1</td>\n",
       "      <td>Mama.licious</td>\n",
       "      <td>Top color ámbar dorado de manga larga con cuel...</td>\n",
       "      <td>45,99 €</td>\n",
       "      <td>Dorado ámbar</td>\n",
       "    </tr>\n",
       "    <tr>\n",
       "      <th>2</th>\n",
       "      <td>2</td>\n",
       "      <td>Mama.licious</td>\n",
       "      <td>Top amarillo de manga larga con cuello ancho d...</td>\n",
       "      <td>21,99 €</td>\n",
       "      <td>Dorado ámbar</td>\n",
       "    </tr>\n",
       "    <tr>\n",
       "      <th>3</th>\n",
       "      <td>3</td>\n",
       "      <td>Selected</td>\n",
       "      <td>Top marrón de manga larga con cuello alto de S...</td>\n",
       "      <td>31,99 €</td>\n",
       "      <td>Tierra oscura</td>\n",
       "    </tr>\n",
       "    <tr>\n",
       "      <th>4</th>\n",
       "      <td>4</td>\n",
       "      <td>Mama.licious</td>\n",
       "      <td>Top multicolor a rayas con cuello alto de punt...</td>\n",
       "      <td>40,99 €</td>\n",
       "      <td>MULTICOLOR</td>\n",
       "    </tr>\n",
       "    <tr>\n",
       "      <th>...</th>\n",
       "      <td>...</td>\n",
       "      <td>...</td>\n",
       "      <td>...</td>\n",
       "      <td>...</td>\n",
       "      <td>...</td>\n",
       "    </tr>\n",
       "    <tr>\n",
       "      <th>10555</th>\n",
       "      <td>15646</td>\n",
       "      <td>Liquorish</td>\n",
       "      <td>Vestido midi cruzado con bajo tipo pañuelo y e...</td>\n",
       "      <td>34,95 €</td>\n",
       "      <td>Multicolor</td>\n",
       "    </tr>\n",
       "    <tr>\n",
       "      <th>10556</th>\n",
       "      <td>15647</td>\n",
       "      <td>&amp; Other Stories</td>\n",
       "      <td>Minivestido negro con manga abullonada de &amp; Ot...</td>\n",
       "      <td>35,05 €</td>\n",
       "      <td>NEGRO</td>\n",
       "    </tr>\n",
       "    <tr>\n",
       "      <th>10557</th>\n",
       "      <td>15648</td>\n",
       "      <td>Selected</td>\n",
       "      <td>Vestido de cambray a rayas con detalle de punt...</td>\n",
       "      <td>23,00 €</td>\n",
       "      <td>Blanco</td>\n",
       "    </tr>\n",
       "    <tr>\n",
       "      <th>10558</th>\n",
       "      <td>15649</td>\n",
       "      <td>ASOS Tall</td>\n",
       "      <td>Vestido estilo peto denim en negro desgastado ...</td>\n",
       "      <td>18,49 €</td>\n",
       "      <td>WASHED BLACK</td>\n",
       "    </tr>\n",
       "    <tr>\n",
       "      <th>10559</th>\n",
       "      <td>15650</td>\n",
       "      <td>Parisian Tall</td>\n",
       "      <td>Vestido con mangas voluminosas de Parisian Tall</td>\n",
       "      <td>9,99 €</td>\n",
       "      <td>GRIS</td>\n",
       "    </tr>\n",
       "  </tbody>\n",
       "</table>\n",
       "<p>10560 rows × 5 columns</p>\n",
       "</div>"
      ],
      "text/plain": [
       "       index            brand  \\\n",
       "0          0         New Look   \n",
       "1          1     Mama.licious   \n",
       "2          2     Mama.licious   \n",
       "3          3         Selected   \n",
       "4          4     Mama.licious   \n",
       "...      ...              ...   \n",
       "10555  15646        Liquorish   \n",
       "10556  15647  & Other Stories   \n",
       "10557  15648         Selected   \n",
       "10558  15649        ASOS Tall   \n",
       "10559  15650    Parisian Tall   \n",
       "\n",
       "                                             description    price  \\\n",
       "0      Top negro escalonado de manga larga con estamp...  16,99 €   \n",
       "1      Top color ámbar dorado de manga larga con cuel...  45,99 €   \n",
       "2      Top amarillo de manga larga con cuello ancho d...  21,99 €   \n",
       "3      Top marrón de manga larga con cuello alto de S...  31,99 €   \n",
       "4      Top multicolor a rayas con cuello alto de punt...  40,99 €   \n",
       "...                                                  ...      ...   \n",
       "10555  Vestido midi cruzado con bajo tipo pañuelo y e...  34,95 €   \n",
       "10556  Minivestido negro con manga abullonada de & Ot...  35,05 €   \n",
       "10557  Vestido de cambray a rayas con detalle de punt...  23,00 €   \n",
       "10558  Vestido estilo peto denim en negro desgastado ...  18,49 €   \n",
       "10559    Vestido con mangas voluminosas de Parisian Tall   9,99 €   \n",
       "\n",
       "              colour  \n",
       "0              Negro  \n",
       "1       Dorado ámbar  \n",
       "2       Dorado ámbar  \n",
       "3      Tierra oscura  \n",
       "4         MULTICOLOR  \n",
       "...              ...  \n",
       "10555     Multicolor  \n",
       "10556          NEGRO  \n",
       "10557         Blanco  \n",
       "10558   WASHED BLACK  \n",
       "10559           GRIS  \n",
       "\n",
       "[10560 rows x 5 columns]"
      ]
     },
     "execution_count": 364,
     "metadata": {},
     "output_type": "execute_result"
    }
   ],
   "source": [
    "# delete duplicated rows \n",
    "\n",
    "ASOS_df1=ASOS_df[~ASOS_df[\"description\"].duplicated()]\n",
    "ASOS_df1.reset_index()"
   ]
  },
  {
   "cell_type": "markdown",
   "id": "3d089d15",
   "metadata": {
    "scrolled": true
   },
   "source": [
    "#### ASOS dataset has a huge number of ways to clasify the products' colours"
   ]
  },
  {
   "cell_type": "code",
   "execution_count": 365,
   "id": "40b70e46",
   "metadata": {},
   "outputs": [
    {
     "data": {
      "text/plain": [
       "1630"
      ]
     },
     "execution_count": 365,
     "metadata": {},
     "output_type": "execute_result"
    }
   ],
   "source": [
    "len(ASOS_df1[\"colour\"].unique())"
   ]
  },
  {
   "cell_type": "markdown",
   "id": "ddcbed5e",
   "metadata": {},
   "source": [
    "## 2.2 Normalize the color names using `mlg.namvector_clean`"
   ]
  },
  {
   "cell_type": "code",
   "execution_count": 366,
   "id": "1f2dd1c0",
   "metadata": {},
   "outputs": [],
   "source": [
    "ASOS_df1=ASOS_df1.copy()\n",
    "ASOS_df1[\"colour\"]=mlg.namvector_clean(ASOS_df1[\"colour\"])\n",
    "ASOS_df1[\"colour\"]=[col.replace(\"_\", \" \") for col in ASOS_df1[\"colour\"]]"
   ]
  },
  {
   "cell_type": "markdown",
   "id": "8981fe6f",
   "metadata": {},
   "source": [
    "### 2.3 Simplify colour names according to the color categories used by Amazon.es"
   ]
  },
  {
   "cell_type": "code",
   "execution_count": 367,
   "id": "764a23e0",
   "metadata": {
    "scrolled": true
   },
   "outputs": [
    {
     "name": "stdout",
     "output_type": "stream",
     "text": [
      "{'black': 'negro', 'gray': 'gris', 'white': 'blanco', 'brown': 'marron', 'beige': 'beis', 'red': 'rojo', 'pink': 'rosa', 'orange': 'naranja', 'yellow': 'amarillo', 'ivory': 'marfil', 'green': 'verde', 'turquoise': 'turquesa', 'blue': 'azul', 'purple': 'morado', 'gold': 'dorado'}\n"
     ]
    }
   ],
   "source": [
    "amz_colors=['negro', 'gris', 'blanco', 'marron', 'beis', 'rojo', 'rosa',\n",
    "       'naranja', 'amarillo', 'marfil', 'verde', 'turquesa', 'azul',\n",
    "       'morado', 'dorado']\n",
    "\n",
    "english_colors = ['black', 'gray', 'white', 'brown', 'beige', 'red', 'pink', 'orange', 'yellow', 'ivory', 'green', 'turquoise', 'blue', 'purple', 'gold']\n",
    "amz_colors_dict = dict(zip(english_colors, amz_colors))\n",
    "\n",
    "print(amz_colors_dict)"
   ]
  },
  {
   "cell_type": "markdown",
   "id": "595c6035",
   "metadata": {},
   "source": [
    "### 2.3 a - 16 SPANISH NAMES"
   ]
  },
  {
   "cell_type": "code",
   "execution_count": null,
   "id": "599a4bcc",
   "metadata": {},
   "outputs": [],
   "source": [
    "ASOS_df2=ASOS_df1.copy()\n",
    "ASOS_df2[\"colour_simp\"]=\"\"\n",
    "\n",
    "for color in amz_colors:\n",
    "    '''\n",
    "    check in original color nomenclature if a simplest color is present\n",
    "    some nomenclatures contain multiple words, i need doble comprehension to eval all the words by cell\n",
    "    '''\n",
    "    matches = [any(word in color for word in cell.split())\n",
    "               for cell in ASOS_df2[\"colour\"].values]\n",
    "    \n",
    "    ASOS_df2.loc[matches, \"colour_simp\"] = color"
   ]
  },
  {
   "cell_type": "code",
   "execution_count": null,
   "id": "7fd92130",
   "metadata": {},
   "outputs": [],
   "source": [
    "# ASOS_df2[\"colour_simp\"].value_counts()"
   ]
  },
  {
   "cell_type": "markdown",
   "id": "e7be1818",
   "metadata": {},
   "source": [
    "### 2.3 b -16 ENGLISH NAMES"
   ]
  },
  {
   "cell_type": "code",
   "execution_count": 369,
   "id": "4682f4af",
   "metadata": {},
   "outputs": [],
   "source": [
    "\n",
    "ASOS_df2.head()\n",
    "\n",
    "for dict_key, dict_value in amz_colors_dict.items(): \n",
    "    matches = [cell in dict_key for cell in ASOS_df2[\"colour\"].values]\n",
    "    \n",
    "    '''\n",
    "    check in original color nomenclature if a simplest color is present\n",
    "    some nomenclatures contain multiple words, i need doble comprehension to eval all the words by cell\n",
    "    '''\n",
    "    matches = [any(word in dict_key for word in cell.split())\n",
    "               for cell in ASOS_df2[\"colour\"].values]\n",
    "    \n",
    "    ASOS_df2.loc[matches, \"colour_simp\"] = dict_value\n"
   ]
  },
  {
   "cell_type": "code",
   "execution_count": null,
   "id": "20251c21",
   "metadata": {},
   "outputs": [],
   "source": [
    "# ASOS_df2[\"colour_simp\"].value_counts()"
   ]
  },
  {
   "cell_type": "markdown",
   "id": "3aac7117",
   "metadata": {},
   "source": [
    "### 2.3 c - `collapsed_dict2.pkl` -chatGPT generated dictionary\n",
    "Load the object from the file -chatGPT generated dictionary to simplifify the colors returned by ASOS"
   ]
  },
  {
   "cell_type": "code",
   "execution_count": 371,
   "id": "78f005a8",
   "metadata": {},
   "outputs": [],
   "source": [
    "with open('../../data/raw/collapsed_dict2.pkl', 'rb') as file:\n",
    "    collapsed_dict2 = pickle.load(file)"
   ]
  },
  {
   "cell_type": "code",
   "execution_count": 372,
   "id": "3d33616e",
   "metadata": {},
   "outputs": [
    {
     "data": {
      "text/plain": [
       "dict_keys(['marron', 'multicolor', 'naranja', 'blanco', 'beis', 'morado', 'gris', 'negro', 'dorado', 'verde', 'rosa', 'rojo', 'azul', 'amarillo', 'plateado'])"
      ]
     },
     "execution_count": 372,
     "metadata": {},
     "output_type": "execute_result"
    }
   ],
   "source": [
    "collapsed_dict2.keys()"
   ]
  },
  {
   "cell_type": "code",
   "execution_count": 373,
   "id": "8bf6abb4",
   "metadata": {},
   "outputs": [],
   "source": [
    "def color_dict_simplify(x):\n",
    "    x = x.lower()\n",
    "    theval=\"\"\n",
    "    for KKK, VVV in collapsed_dict2.items():\n",
    "        for VAL in VVV:\n",
    "            if VAL in x:\n",
    "                theval = KKK\n",
    "            \n",
    "    return theval"
   ]
  },
  {
   "cell_type": "code",
   "execution_count": 384,
   "id": "2c0d74ee",
   "metadata": {},
   "outputs": [],
   "source": [
    "ASOS_df3=ASOS_df2.copy()\n",
    "\n",
    "ASOS_df3['colour_simp2'] = ASOS_df3['colour'].apply(color_dict_simplify)\n",
    "#ASOS_df3['colour_simp2'].value_counts()"
   ]
  },
  {
   "cell_type": "markdown",
   "id": "3b64d820",
   "metadata": {},
   "source": [
    "### 2.3 d- Unify colors in `colour_simp` and keep only one column"
   ]
  },
  {
   "cell_type": "code",
   "execution_count": 385,
   "id": "7321908b",
   "metadata": {},
   "outputs": [],
   "source": [
    "def update_colour_simp(row):\n",
    "    if row['colour_simp'] == \"\":\n",
    "        return row['colour_simp2']\n",
    "    else:\n",
    "        return row['colour_simp']\n",
    "\n",
    "ASOS_df3['colour_simp'] = ASOS_df3.apply(update_colour_simp, axis=1)\n"
   ]
  },
  {
   "cell_type": "markdown",
   "id": "af508fba",
   "metadata": {},
   "source": [
    "#### There still a crazy ASOS names \n",
    "\n",
    "We have still 269 rows without simple nomenclature. <br/>\n",
    "I could Use fuzzywuzzy to clean it but -for the moment-, I prefer just to drop them"
   ]
  },
  {
   "cell_type": "code",
   "execution_count": 386,
   "id": "a1adda1f",
   "metadata": {},
   "outputs": [
    {
     "name": "stdout",
     "output_type": "stream",
     "text": [
      "269\n"
     ]
    },
    {
     "data": {
      "text/html": [
       "<div>\n",
       "<style scoped>\n",
       "    .dataframe tbody tr th:only-of-type {\n",
       "        vertical-align: middle;\n",
       "    }\n",
       "\n",
       "    .dataframe tbody tr th {\n",
       "        vertical-align: top;\n",
       "    }\n",
       "\n",
       "    .dataframe thead th {\n",
       "        text-align: right;\n",
       "    }\n",
       "</style>\n",
       "<table border=\"1\" class=\"dataframe\">\n",
       "  <thead>\n",
       "    <tr style=\"text-align: right;\">\n",
       "      <th></th>\n",
       "      <th>brand</th>\n",
       "      <th>description</th>\n",
       "      <th>price</th>\n",
       "      <th>colour</th>\n",
       "      <th>colour_simp</th>\n",
       "      <th>colour_simp2</th>\n",
       "    </tr>\n",
       "  </thead>\n",
       "  <tbody>\n",
       "    <tr>\n",
       "      <th>3058</th>\n",
       "      <td>Dickies</td>\n",
       "      <td>Camiseta verde con estampado en la espalda San...</td>\n",
       "      <td>26,50 €</td>\n",
       "      <td>adventurine</td>\n",
       "      <td></td>\n",
       "      <td></td>\n",
       "    </tr>\n",
       "    <tr>\n",
       "      <th>3061</th>\n",
       "      <td>Dickies</td>\n",
       "      <td>Camiseta verde oscuro con logo universitario S...</td>\n",
       "      <td>22,00 €</td>\n",
       "      <td>adventurine</td>\n",
       "      <td></td>\n",
       "      <td></td>\n",
       "    </tr>\n",
       "    <tr>\n",
       "      <th>3062</th>\n",
       "      <td>Dickies</td>\n",
       "      <td>Camiseta azul real con estampado del yin yang ...</td>\n",
       "      <td>26,50 €</td>\n",
       "      <td>cielo satinado</td>\n",
       "      <td></td>\n",
       "      <td></td>\n",
       "    </tr>\n",
       "    <tr>\n",
       "      <th>3244</th>\n",
       "      <td>ASOS DESIGN</td>\n",
       "      <td>Camiseta color crudo jaspeado de corte boyfrie...</td>\n",
       "      <td>19,00 €</td>\n",
       "      <td>marga cruda</td>\n",
       "      <td></td>\n",
       "      <td></td>\n",
       "    </tr>\n",
       "    <tr>\n",
       "      <th>3300</th>\n",
       "      <td>Levi's</td>\n",
       "      <td>Camiseta azul marino con logo estampado en for...</td>\n",
       "      <td>19,00 €</td>\n",
       "      <td>flores kinsley</td>\n",
       "      <td></td>\n",
       "      <td></td>\n",
       "    </tr>\n",
       "  </tbody>\n",
       "</table>\n",
       "</div>"
      ],
      "text/plain": [
       "            brand                                        description    price  \\\n",
       "3058      Dickies  Camiseta verde con estampado en la espalda San...  26,50 €   \n",
       "3061      Dickies  Camiseta verde oscuro con logo universitario S...  22,00 €   \n",
       "3062      Dickies  Camiseta azul real con estampado del yin yang ...  26,50 €   \n",
       "3244  ASOS DESIGN  Camiseta color crudo jaspeado de corte boyfrie...  19,00 €   \n",
       "3300       Levi's  Camiseta azul marino con logo estampado en for...  19,00 €   \n",
       "\n",
       "              colour colour_simp colour_simp2  \n",
       "3058     adventurine                           \n",
       "3061     adventurine                           \n",
       "3062  cielo satinado                           \n",
       "3244     marga cruda                           \n",
       "3300  flores kinsley                           "
      ]
     },
     "metadata": {},
     "output_type": "display_data"
    }
   ],
   "source": [
    "crazy_ASOS=ASOS_df3[ASOS_df3[\"colour_simp\"]==\"\"]\n",
    "\n",
    "print(len(crazy_ASOS))\n",
    "display(crazy_ASOS.head(5))"
   ]
  },
  {
   "cell_type": "markdown",
   "id": "264b4d91",
   "metadata": {},
   "source": [
    "### 2.3 e- Drop rows with crazy names and keep only simplified color"
   ]
  },
  {
   "cell_type": "code",
   "execution_count": 387,
   "id": "ab6471d6",
   "metadata": {
    "scrolled": true
   },
   "outputs": [],
   "source": [
    "ASOS_df4=ASOS_df3.copy()\n",
    "ASOS_df4 = ASOS_df4.loc[:, ['brand', 'description', 'price', \"colour_simp\"]]\n",
    "ASOS_df4 = ASOS_df4.rename(columns={'colour_simp': 'colour'})"
   ]
  },
  {
   "cell_type": "code",
   "execution_count": 395,
   "id": "75797fb2",
   "metadata": {},
   "outputs": [],
   "source": [
    "\n",
    "ASOS_df4.colour =[row.lstrip() for row in ASOS_df4.colour]\n",
    "ASOS_df4=ASOS_df4[ASOS_df4[\"colour\"]!=\"\"]\n",
    "ASOS_df4.sample(10)"
   ]
  },
  {
   "cell_type": "markdown",
   "id": "f1bea88e",
   "metadata": {},
   "source": [
    "#### Simplify ` turquesa` for `azul` and `marfil` for `beis`"
   ]
  },
  {
   "cell_type": "code",
   "execution_count": 399,
   "id": "795b39ba",
   "metadata": {},
   "outputs": [],
   "source": [
    "ASOS_df4[\"colour\"][ASOS_df4[\"colour\"]==\"turquesa\"]=\"azul\"\n",
    "ASOS_df4[\"colour\"][ASOS_df4[\"colour\"]==\"marfil\"]=\"beis\""
   ]
  },
  {
   "cell_type": "code",
   "execution_count": 400,
   "id": "0b90a55b",
   "metadata": {},
   "outputs": [
    {
     "data": {
      "text/plain": [
       "negro         2092\n",
       "multicolor    1339\n",
       "verde         1226\n",
       "blanco         988\n",
       "azul           905\n",
       "beis           851\n",
       "rosa           723\n",
       "marron         678\n",
       "gris           377\n",
       "naranja        309\n",
       "morado         299\n",
       "rojo           283\n",
       "amarillo       194\n",
       "dorado          17\n",
       "plateado        10\n",
       "Name: colour, dtype: int64"
      ]
     },
     "execution_count": 400,
     "metadata": {},
     "output_type": "execute_result"
    }
   ],
   "source": [
    "ASOS_df4[\"colour\"].value_counts()"
   ]
  },
  {
   "cell_type": "markdown",
   "id": "df4831f9",
   "metadata": {},
   "source": [
    "## 2.4 Clean `price` column\n",
    "\n",
    "* Take out € symbol\n",
    "* Replace , for .\n",
    "* Transform to float"
   ]
  },
  {
   "cell_type": "code",
   "execution_count": 404,
   "id": "d4c4737a",
   "metadata": {},
   "outputs": [
    {
     "data": {
      "text/html": [
       "<div>\n",
       "<style scoped>\n",
       "    .dataframe tbody tr th:only-of-type {\n",
       "        vertical-align: middle;\n",
       "    }\n",
       "\n",
       "    .dataframe tbody tr th {\n",
       "        vertical-align: top;\n",
       "    }\n",
       "\n",
       "    .dataframe thead th {\n",
       "        text-align: right;\n",
       "    }\n",
       "</style>\n",
       "<table border=\"1\" class=\"dataframe\">\n",
       "  <thead>\n",
       "    <tr style=\"text-align: right;\">\n",
       "      <th></th>\n",
       "      <th>brand</th>\n",
       "      <th>description</th>\n",
       "      <th>price</th>\n",
       "      <th>colour</th>\n",
       "    </tr>\n",
       "  </thead>\n",
       "  <tbody>\n",
       "    <tr>\n",
       "      <th>0</th>\n",
       "      <td>New Look</td>\n",
       "      <td>Top negro escalonado de manga larga con estamp...</td>\n",
       "      <td>16,99 €</td>\n",
       "      <td>negro</td>\n",
       "    </tr>\n",
       "    <tr>\n",
       "      <th>1</th>\n",
       "      <td>Mama.licious</td>\n",
       "      <td>Top color ámbar dorado de manga larga con cuel...</td>\n",
       "      <td>45,99 €</td>\n",
       "      <td>dorado</td>\n",
       "    </tr>\n",
       "    <tr>\n",
       "      <th>2</th>\n",
       "      <td>Mama.licious</td>\n",
       "      <td>Top amarillo de manga larga con cuello ancho d...</td>\n",
       "      <td>21,99 €</td>\n",
       "      <td>dorado</td>\n",
       "    </tr>\n",
       "    <tr>\n",
       "      <th>3</th>\n",
       "      <td>Selected</td>\n",
       "      <td>Top marrón de manga larga con cuello alto de S...</td>\n",
       "      <td>31,99 €</td>\n",
       "      <td>marron</td>\n",
       "    </tr>\n",
       "    <tr>\n",
       "      <th>4</th>\n",
       "      <td>Mama.licious</td>\n",
       "      <td>Top multicolor a rayas con cuello alto de punt...</td>\n",
       "      <td>40,99 €</td>\n",
       "      <td>multicolor</td>\n",
       "    </tr>\n",
       "  </tbody>\n",
       "</table>\n",
       "</div>"
      ],
      "text/plain": [
       "          brand                                        description    price  \\\n",
       "0      New Look  Top negro escalonado de manga larga con estamp...  16,99 €   \n",
       "1  Mama.licious  Top color ámbar dorado de manga larga con cuel...  45,99 €   \n",
       "2  Mama.licious  Top amarillo de manga larga con cuello ancho d...  21,99 €   \n",
       "3      Selected  Top marrón de manga larga con cuello alto de S...  31,99 €   \n",
       "4  Mama.licious  Top multicolor a rayas con cuello alto de punt...  40,99 €   \n",
       "\n",
       "       colour  \n",
       "0       negro  \n",
       "1      dorado  \n",
       "2      dorado  \n",
       "3      marron  \n",
       "4  multicolor  "
      ]
     },
     "execution_count": 404,
     "metadata": {},
     "output_type": "execute_result"
    }
   ],
   "source": [
    "ASOS_df4[:5]"
   ]
  },
  {
   "cell_type": "code",
   "execution_count": 405,
   "id": "b4945afe",
   "metadata": {},
   "outputs": [],
   "source": [
    "ASOS_df4[\"price\"]=[VAL.replace(\",\", \".\") for VAL in ASOS_df4[\"price\"]]\n",
    "ASOS_df4[\"price\"]=[VAL.replace(\"€\", \"\") for VAL in ASOS_df4[\"price\"]]\n",
    "ASOS_df4[\"price\"]=[float(VAL) for VAL in ASOS_df4[\"price\"]]"
   ]
  },
  {
   "cell_type": "code",
   "execution_count": 406,
   "id": "e7023c71",
   "metadata": {
    "scrolled": true
   },
   "outputs": [
    {
     "data": {
      "text/html": [
       "<div>\n",
       "<style scoped>\n",
       "    .dataframe tbody tr th:only-of-type {\n",
       "        vertical-align: middle;\n",
       "    }\n",
       "\n",
       "    .dataframe tbody tr th {\n",
       "        vertical-align: top;\n",
       "    }\n",
       "\n",
       "    .dataframe thead th {\n",
       "        text-align: right;\n",
       "    }\n",
       "</style>\n",
       "<table border=\"1\" class=\"dataframe\">\n",
       "  <thead>\n",
       "    <tr style=\"text-align: right;\">\n",
       "      <th></th>\n",
       "      <th>brand</th>\n",
       "      <th>description</th>\n",
       "      <th>price</th>\n",
       "      <th>colour</th>\n",
       "    </tr>\n",
       "  </thead>\n",
       "  <tbody>\n",
       "    <tr>\n",
       "      <th>0</th>\n",
       "      <td>New Look</td>\n",
       "      <td>Top negro escalonado de manga larga con estamp...</td>\n",
       "      <td>16.99</td>\n",
       "      <td>negro</td>\n",
       "    </tr>\n",
       "    <tr>\n",
       "      <th>1</th>\n",
       "      <td>Mama.licious</td>\n",
       "      <td>Top color ámbar dorado de manga larga con cuel...</td>\n",
       "      <td>45.99</td>\n",
       "      <td>dorado</td>\n",
       "    </tr>\n",
       "    <tr>\n",
       "      <th>2</th>\n",
       "      <td>Mama.licious</td>\n",
       "      <td>Top amarillo de manga larga con cuello ancho d...</td>\n",
       "      <td>21.99</td>\n",
       "      <td>dorado</td>\n",
       "    </tr>\n",
       "    <tr>\n",
       "      <th>3</th>\n",
       "      <td>Selected</td>\n",
       "      <td>Top marrón de manga larga con cuello alto de S...</td>\n",
       "      <td>31.99</td>\n",
       "      <td>marron</td>\n",
       "    </tr>\n",
       "    <tr>\n",
       "      <th>4</th>\n",
       "      <td>Mama.licious</td>\n",
       "      <td>Top multicolor a rayas con cuello alto de punt...</td>\n",
       "      <td>40.99</td>\n",
       "      <td>multicolor</td>\n",
       "    </tr>\n",
       "  </tbody>\n",
       "</table>\n",
       "</div>"
      ],
      "text/plain": [
       "          brand                                        description  price  \\\n",
       "0      New Look  Top negro escalonado de manga larga con estamp...  16.99   \n",
       "1  Mama.licious  Top color ámbar dorado de manga larga con cuel...  45.99   \n",
       "2  Mama.licious  Top amarillo de manga larga con cuello ancho d...  21.99   \n",
       "3      Selected  Top marrón de manga larga con cuello alto de S...  31.99   \n",
       "4  Mama.licious  Top multicolor a rayas con cuello alto de punt...  40.99   \n",
       "\n",
       "       colour  \n",
       "0       negro  \n",
       "1      dorado  \n",
       "2      dorado  \n",
       "3      marron  \n",
       "4  multicolor  "
      ]
     },
     "execution_count": 406,
     "metadata": {},
     "output_type": "execute_result"
    }
   ],
   "source": [
    "ASOS_df4[:5]"
   ]
  },
  {
   "cell_type": "markdown",
   "id": "93522c15",
   "metadata": {},
   "source": [
    "## 2.5 Normalize `brand` names"
   ]
  },
  {
   "cell_type": "code",
   "execution_count": 407,
   "id": "ac2ff676",
   "metadata": {},
   "outputs": [],
   "source": [
    "ASOS_df5=ASOS_df4.copy()\n",
    "ASOS_df5.brand = [row.replace(\".\", \"\") for row in ASOS_df5.brand]"
   ]
  },
  {
   "cell_type": "code",
   "execution_count": 408,
   "id": "f2a98a6b",
   "metadata": {},
   "outputs": [
    {
     "data": {
      "text/plain": [
       "colour\n",
       "amarillo      28.990464\n",
       "azul          31.325238\n",
       "beis          30.004172\n",
       "blanco        27.163269\n",
       "dorado        50.278824\n",
       "gris          24.391061\n",
       "marron        25.674277\n",
       "morado        26.229231\n",
       "multicolor    27.375818\n",
       "naranja       25.676505\n",
       "negro         29.392887\n",
       "plateado      33.148000\n",
       "rojo          31.225795\n",
       "rosa          29.330318\n",
       "verde         26.644070\n",
       "Name: price, dtype: float64"
      ]
     },
     "metadata": {},
     "output_type": "display_data"
    },
    {
     "data": {
      "text/plain": [
       "brand\n",
       "& Other Stories            47.643684\n",
       "4th & Reckless             33.007273\n",
       "4th & Reckless Plus        41.500000\n",
       "4th & Reckless Tall        36.500000\n",
       "AAPE BY A BATHING APE®     64.750000\n",
       "                             ...    \n",
       "adidas                     13.600000\n",
       "adidas Originals           27.390625\n",
       "adidas performance         29.666667\n",
       "ellesse                    26.522727\n",
       "sister jane               105.833333\n",
       "Name: price, Length: 365, dtype: float64"
      ]
     },
     "metadata": {},
     "output_type": "display_data"
    }
   ],
   "source": [
    "display(ASOS_df5.groupby('colour')['price'].mean())\n",
    "display(ASOS_df5.groupby('brand')['price'].mean())"
   ]
  },
  {
   "cell_type": "markdown",
   "id": "ac181d6f",
   "metadata": {},
   "source": [
    "## 3. Save cleaned data"
   ]
  },
  {
   "cell_type": "code",
   "execution_count": 411,
   "id": "a52e5b4a",
   "metadata": {},
   "outputs": [],
   "source": [
    "#asos_womenupperclothes_clean=ASOS_df5.copy()\n",
    "#asos_womenupperclothes_clean.to_csv('../../data/clean/asos_womenupperclothes_clean.csv', index=False)"
   ]
  }
 ],
 "metadata": {
  "kernelspec": {
   "display_name": "env37",
   "language": "python",
   "name": "env37"
  },
  "language_info": {
   "codemirror_mode": {
    "name": "ipython",
    "version": 3
   },
   "file_extension": ".py",
   "mimetype": "text/x-python",
   "name": "python",
   "nbconvert_exporter": "python",
   "pygments_lexer": "ipython3",
   "version": "3.7.16"
  }
 },
 "nbformat": 4,
 "nbformat_minor": 5
}
