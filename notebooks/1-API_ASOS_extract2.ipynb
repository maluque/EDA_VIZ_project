{
 "cells": [
  {
   "cell_type": "markdown",
   "id": "c71216bc",
   "metadata": {},
   "source": [
    "# EXTRACT\n",
    "# Extracting Women clothes from ASOS API (2)\n",
    "\n",
    "\n",
    "(2) Extract more products similar to t-shirt category"
   ]
  },
  {
   "cell_type": "markdown",
   "id": "b1eb1576",
   "metadata": {},
   "source": [
    "### 0. Import modules"
   ]
  },
  {
   "cell_type": "code",
   "execution_count": 3,
   "id": "645ccd3d",
   "metadata": {},
   "outputs": [],
   "source": [
    "import requests\n",
    "import time\n",
    "import pandas as pd\n",
    "import pickle"
   ]
  },
  {
   "cell_type": "code",
   "execution_count": 4,
   "id": "3e2d11f2",
   "metadata": {},
   "outputs": [],
   "source": [
    "from logs.PASSES import RAPID ## my TOKEN"
   ]
  },
  {
   "cell_type": "code",
   "execution_count": 5,
   "id": "15c20ebc",
   "metadata": {},
   "outputs": [
    {
     "data": {
      "text/plain": [
       "50"
      ]
     },
     "execution_count": 5,
     "metadata": {},
     "output_type": "execute_result"
    }
   ],
   "source": [
    "len(RAPID)"
   ]
  },
  {
   "cell_type": "markdown",
   "id": "5484b0b5",
   "metadata": {},
   "source": [
    "## RapidAPI - Asos\n",
    "\n",
    "What is RapidAPI?\n",
    "RapidAPI is an API Marketplace for developers to find, connect, and manage their API connections. \n",
    "\n",
    "https://rapidapi.com/apidojo/api/zappos1"
   ]
  },
  {
   "cell_type": "code",
   "execution_count": 7,
   "id": "961ed5bd",
   "metadata": {},
   "outputs": [],
   "source": [
    "headers = {\n",
    "    \"X-RapidAPI-Key\": RAPID,\n",
    "    \"X-RapidAPI-Host\": \"asos2.p.rapidapi.com\"\n",
    "}"
   ]
  },
  {
   "cell_type": "markdown",
   "id": "70c3130a",
   "metadata": {},
   "source": [
    "### Get countries available to get ASOS data from\n",
    "\n",
    "Extract the relevant info for **SPAIN**"
   ]
  },
  {
   "cell_type": "code",
   "execution_count": 8,
   "id": "b6189a30",
   "metadata": {},
   "outputs": [],
   "source": [
    "url = \"https://asos2.p.rapidapi.com/countries/list\"\n",
    "\n",
    "response = requests.get(url, headers=headers)\n",
    "\n",
    "countries_res=response.json()"
   ]
  },
  {
   "cell_type": "code",
   "execution_count": null,
   "id": "d85db3fb",
   "metadata": {},
   "outputs": [],
   "source": [
    "ES_index = [index for index, countries in enumerate(countries_res) if countries.get(\"country\") == \"ES\"]\n",
    "nombre_pais=countries_res[ES_index[0]][\"name\"]\n",
    "pais=countries_res[ES_index[0]][\"country\"]\n",
    "idioma=countries_res[ES_index[0]][\"languages\"][0][\"language\"]\n",
    "moneda=countries_res[ES_index[0]][\"currencies\"][0][\"currency\"]\n",
    "\n",
    "#display(nombre_pais, pais, idioma, moneda)"
   ]
  },
  {
   "cell_type": "markdown",
   "id": "04a6714d",
   "metadata": {},
   "source": [
    "### 5 main brand categories\n",
    "keep `WW_FP A-Z Women's Brands`"
   ]
  },
  {
   "cell_type": "code",
   "execution_count": 10,
   "id": "1b6f041c",
   "metadata": {},
   "outputs": [],
   "source": [
    "url = \"https://asos2.p.rapidapi.com/categories/list\"\n",
    "querystring = {\"country\":\"pais\", \"lang\":\"idioma\"}\n",
    "response = requests.get(url, headers=headers, params=querystring)\n",
    "brands_res=response.json()"
   ]
  },
  {
   "cell_type": "code",
   "execution_count": 11,
   "id": "e1de21da",
   "metadata": {},
   "outputs": [
    {
     "name": "stdout",
     "output_type": "stream",
     "text": [
      "MW_FP A-Z Men's Brands\n",
      "MW_MD A-Z Men's Outlet Brands\n",
      "WW_FP A-Z Women's Brands\n",
      "WW_MD A-Z of brands: Outlet & sale\n",
      "WW_Beauty A-Z Face + Body Brands\n",
      "5\n"
     ]
    }
   ],
   "source": [
    "[print(R[\"alias\"],R[\"content\"][\"title\"]) for R in brands_res[\"brands\"]] \n",
    "main_cats=brands_res[\"brands\"][2] ## WW_FP A-Z Women's Brands"
   ]
  },
  {
   "cell_type": "markdown",
   "id": "4b613f61",
   "metadata": {},
   "source": [
    "### Brand ids in `WW_FP A-Z Women's Brands`"
   ]
  },
  {
   "cell_type": "code",
   "execution_count": null,
   "id": "9d3111e1",
   "metadata": {},
   "outputs": [],
   "source": [
    "[print(R[\"content\"][\"title\"], R[\"link\"][\"categoryId\"]) for R in main_cats[\"children\"]]\n",
    "\n",
    "#Roxy 7274\n",
    "#Quiksilver 28829\n",
    "#Lacoste 7294"
   ]
  },
  {
   "cell_type": "markdown",
   "id": "0a01ece1",
   "metadata": {},
   "source": [
    "### Get data directly from category id"
   ]
  },
  {
   "cell_type": "code",
   "execution_count": 15,
   "id": "9a9e7fa3",
   "metadata": {},
   "outputs": [],
   "source": [
    "url = \"https://asos2.p.rapidapi.com/categories/list\"\n",
    "\n",
    "querystring = {\"country\":\"pais\", \"lang\":\"idioma\"}\n",
    "\n",
    "response = requests.get(url, headers=headers, params=querystring)\n",
    "\n",
    "res=response.json()"
   ]
  },
  {
   "cell_type": "code",
   "execution_count": 16,
   "id": "608f2b0a",
   "metadata": {},
   "outputs": [],
   "source": [
    "res[\"navigation\"][0] #men\n",
    "res[\"navigation\"][1] #women\n",
    "resWomen=res[\"navigation\"][1]"
   ]
  },
  {
   "cell_type": "markdown",
   "id": "a2c64808",
   "metadata": {},
   "source": [
    "### Create a list containing the type of items and their category id"
   ]
  },
  {
   "cell_type": "code",
   "execution_count": 18,
   "id": "c22bbda3",
   "metadata": {},
   "outputs": [],
   "source": [
    "category_list=[]\n",
    "for RESW in resWomen[\"children\"]:\n",
    "   # display(RESW[\"children\"])\n",
    "    for i in range(len(RESW[\"children\"])):\n",
    "        RESW2=RESW[\"children\"][i][\"children\"]\n",
    "        for j in RESW2:\n",
    "            RESW3=j[\"children\"]\n",
    "            for n in RESW3:\n",
    "                #display(n[\"link\"][\"categoryId\"])\n",
    "                #display(n[\"link\"][\"webUrl\"])\n",
    "                category_list.append(n[\"link\"][\"webUrl\"])"
   ]
  },
  {
   "cell_type": "code",
   "execution_count": 19,
   "id": "8f5ef8ed",
   "metadata": {
    "scrolled": true
   },
   "outputs": [],
   "source": [
    "category_list2=[CAT.split(\"cid=\") for CAT in category_list]\n",
    "category_list2=[CAT for CAT in category_list2 if len(CAT)==2]\n"
   ]
  },
  {
   "cell_type": "markdown",
   "id": "b670c742",
   "metadata": {},
   "source": [
    "### CategoryId of Woman T-shirts is # 20581"
   ]
  },
  {
   "cell_type": "code",
   "execution_count": null,
   "id": "e7c239d2",
   "metadata": {},
   "outputs": [],
   "source": [
    "#find_category=\"t-shirt\"\n",
    "#find_category=\"top\"\n",
    "find_category=\"shirt\"\n",
    "\n",
    "\n",
    "category_listx=[]\n",
    "for CAT in category_list2:\n",
    "    if(find_category in CAT[0]):\n",
    "        category_listx.append(CAT)\n",
    "        \n",
    "category_listx[:3]"
   ]
  },
  {
   "cell_type": "markdown",
   "id": "de11c575",
   "metadata": {},
   "source": [
    "### \"shirts\" category"
   ]
  },
  {
   "cell_type": "code",
   "execution_count": null,
   "id": "7d101ba1",
   "metadata": {},
   "outputs": [],
   "source": [
    "#find_category=\"t-shirt\"\n",
    "#find_category=\"top\"\n",
    "find_category=\"shirt\"\n",
    "\n",
    "category_listx=[]\n",
    "for CAT in category_list2:\n",
    "    if(find_category in CAT[0]):\n",
    "        category_listx.append(CAT)\n",
    "        \n",
    "category_listx"
   ]
  },
  {
   "cell_type": "code",
   "execution_count": 78,
   "id": "a5b49566",
   "metadata": {},
   "outputs": [
    {
     "data": {
      "text/plain": [
       "['15200', '20581', '13053', '27423', '11321', '20580']"
      ]
     },
     "execution_count": 78,
     "metadata": {},
     "output_type": "execute_result"
    }
   ],
   "source": [
    "categories=[VALS[1] for VALS in category_listx]\n",
    "categories=list(set(categories))\n",
    "categories_shirt=categories"
   ]
  },
  {
   "cell_type": "markdown",
   "id": "847b816b",
   "metadata": {},
   "source": [
    "### \"tops\" category"
   ]
  },
  {
   "cell_type": "code",
   "execution_count": 130,
   "id": "27b7deae",
   "metadata": {},
   "outputs": [
    {
     "data": {
      "text/plain": [
       "['20581', '4167', '4167', '20581', '4169', '27167', '9581', '9581', '27421']"
      ]
     },
     "execution_count": 130,
     "metadata": {},
     "output_type": "execute_result"
    }
   ],
   "source": [
    "#find_category=\"t-shirt\"\n",
    "find_category=\"top\"\n",
    "#find_category=\"shirt\"\n",
    "\n",
    "category_listx=[]\n",
    "for CAT in category_list2:\n",
    "    if(find_category in CAT[0]):\n",
    "        category_listx.append(CAT)\n",
    "\n",
    "category_listx=[VALS for VALS in category_listx if \"brands\" not in  VALS[0]]\n",
    "category_listx=[VALS[1] for VALS in category_listx]\n",
    "categories=[VALS.split(\"&\")[0] for VALS in category_listx]\n",
    "categories_top=categories\n",
    "categories_top"
   ]
  },
  {
   "cell_type": "code",
   "execution_count": 117,
   "id": "ea199c4a",
   "metadata": {},
   "outputs": [
    {
     "data": {
      "text/plain": [
       "[['https://www.asos.com/us/women/sale/tops/t-shirts-tank-tops/cat/?', '20581'],\n",
       " ['https://www.asos.com/us/women/sale/tops/t-shirts-tank-tops/cat/?', '20581']]"
      ]
     },
     "execution_count": 117,
     "metadata": {},
     "output_type": "execute_result"
    }
   ],
   "source": [
    "find_category=\"t-shirt\"\n",
    "#find_category=\"top\"\n",
    "#find_category=\"shirt\"\n",
    "\n",
    "category_listx=[]\n",
    "for CAT in category_list2:\n",
    "    if(find_category in CAT[0]):\n",
    "        category_listx.append(CAT)\n",
    "category_listx     "
   ]
  },
  {
   "cell_type": "code",
   "execution_count": 99,
   "id": "ec53419e",
   "metadata": {},
   "outputs": [],
   "source": [
    "categories=[VALS[1] for VALS in category_listx]\n",
    "categories=list(set(categories))\n",
    "categories=[VALS.split(\"&\")[0] for VALS in categories]\n",
    "categories_top=categories"
   ]
  },
  {
   "cell_type": "markdown",
   "id": "efc8a5e9",
   "metadata": {},
   "source": [
    "### \"dresses\" category"
   ]
  },
  {
   "cell_type": "code",
   "execution_count": null,
   "id": "c08ddf0e",
   "metadata": {},
   "outputs": [],
   "source": [
    "#find_category=\"t-shirt\"\n",
    "find_category=\"dresses\"\n",
    "#find_category=\"shirt\"\n",
    "\n",
    "category_listx=[]\n",
    "for CAT in category_list2:\n",
    "    if(find_category in CAT[0]):\n",
    "        category_listx.append(CAT)\n",
    "\n",
    "category_listx=[VALS for VALS in category_listx if \"brands\" not in  VALS[0]]\n",
    "category_listx=[VALS[1] for VALS in category_listx]\n",
    "categories=[VALS.split(\"&\")[0] for VALS in category_listx]\n",
    "categories_dress=categories\n"
   ]
  },
  {
   "cell_type": "markdown",
   "id": "5d302e6e",
   "metadata": {},
   "source": [
    "### Iterate the search to get all the products available\n",
    "\n",
    "Asos has a limit of 48 products by request.\n",
    "\n",
    "Change the category Id to extract the products of each category\n"
   ]
  },
  {
   "cell_type": "code",
   "execution_count": 143,
   "id": "c1680d50",
   "metadata": {
    "scrolled": true
   },
   "outputs": [],
   "source": [
    "url = \"https://asos2.p.rapidapi.com/products/v2/list\"\n",
    "headers = {\n",
    "    \"X-RapidAPI-Key\": RAPID,\n",
    "    \"X-RapidAPI-Host\": \"asos2.p.rapidapi.com\"\n",
    "}\n",
    "\n",
    "# categories_dress\n",
    "# \"20581\" #only t-shirt\n",
    "#categories_top\n",
    "#categories_shirt\n",
    "\n",
    "\n",
    "category_id = categories_dress # \"20581\"\n",
    "limit = 48\n",
    "offset = 0\n",
    "results = []\n",
    "\n",
    "while True:\n",
    "    querystring = {\n",
    "        \"categoryId\": categories_dress, #\"20581\",\n",
    "        \"lang\":{idioma},\"currency\":{moneda},\"store\":{pais},\"country\":{pais},\n",
    "        \"limit\": str(limit),\n",
    "        \"offset\": str(offset),\n",
    "        \"sort\": \"freshness\"\n",
    "    }\n",
    "\n",
    "    response = requests.get(url, headers=headers, params=querystring)\n",
    "\n",
    "    if response.status_code == 200:\n",
    "        data = response.json()\n",
    "        results.extend(data['products'])  # Append the products from the current page to results\n",
    "        offset += limit  # Increment the offset to get the next page\n",
    "        if len(data['products']) < limit:\n",
    "            break  # Break the loop if the current page has fewer than the limit\n",
    "    else:\n",
    "        print(f\"Error: {response.status_code}\")\n",
    "        break  # Exit the loop on error\n",
    "\n"
   ]
  },
  {
   "cell_type": "markdown",
   "id": "ffe98a06",
   "metadata": {},
   "source": [
    "### Parse json to DataFrame"
   ]
  },
  {
   "cell_type": "code",
   "execution_count": null,
   "id": "b1d9b267",
   "metadata": {},
   "outputs": [],
   "source": [
    "thedf=[[row[\"brandName\"], row[\"name\"],  row[\"price\"][\"current\"][\"text\"], row[\"colour\"]] for row in results]\n",
    "tets_df=pd.DataFrame(thedf,columns=[\"brand\", \"description\", \"price\", \"colour\"])\n",
    "tets_df[:2]"
   ]
  },
  {
   "cell_type": "markdown",
   "id": "c646298a",
   "metadata": {},
   "source": [
    "### Save the data using pickle\n",
    "\n",
    "The Lines are commented to avoid overwritting"
   ]
  },
  {
   "cell_type": "code",
   "execution_count": null,
   "id": "ea650c27",
   "metadata": {},
   "outputs": [],
   "source": [
    "# asos_womendress_data=results #only t-shirts\n",
    "## asos_womentshirt_data=results #only t-shirts\n",
    "## asos_womenshirt2_data=results # all \"shirts\"\n",
    "# asos_womentop_data=results # all \"shirts\""
   ]
  },
  {
   "cell_type": "code",
   "execution_count": 146,
   "id": "f72fd7df",
   "metadata": {},
   "outputs": [],
   "source": [
    "### Save the object to a file using pickle\n",
    "#with open('asos_womendress_data.pkl', 'wb') as file:\n",
    "#    pickle.dump(asos_womendress_data, file)\n",
    "\n",
    "### Save the object to a file using pickle\n",
    "#with open('asos_womentop_data.pkl', 'wb') as file:\n",
    "#    pickle.dump(asos_womentop_data, file)\n",
    "\n",
    "### Save the object to a file using pickle\n",
    "#with open('asos_womenshirt2_data.pkl', 'wb') as file:\n",
    "#    pickle.dump(asos_womenshirt2_data, file)\n",
    "    \n",
    "### Save the object to a file using pickle\n",
    "#with open('asos_womentshirt_data.pkl', 'wb') as file:\n",
    "#    pickle.dump(asos_womentshirt_data, file)"
   ]
  },
  {
   "cell_type": "code",
   "execution_count": null,
   "id": "8dd79992",
   "metadata": {},
   "outputs": [],
   "source": []
  },
  {
   "cell_type": "code",
   "execution_count": 36,
   "id": "5bb5a9bc",
   "metadata": {},
   "outputs": [],
   "source": [
    "with open('../../data/raw/asos_womentshirt_data.pkl', 'rb') as file:\n",
    "    asos_womentshirt_data = pickle.load(file)"
   ]
  },
  {
   "cell_type": "code",
   "execution_count": null,
   "id": "c5f48501",
   "metadata": {},
   "outputs": [],
   "source": []
  },
  {
   "cell_type": "code",
   "execution_count": 58,
   "id": "8924fd0a",
   "metadata": {},
   "outputs": [
    {
     "data": {
      "text/html": [
       "<div>\n",
       "<style scoped>\n",
       "    .dataframe tbody tr th:only-of-type {\n",
       "        vertical-align: middle;\n",
       "    }\n",
       "\n",
       "    .dataframe tbody tr th {\n",
       "        vertical-align: top;\n",
       "    }\n",
       "\n",
       "    .dataframe thead th {\n",
       "        text-align: right;\n",
       "    }\n",
       "</style>\n",
       "<table border=\"1\" class=\"dataframe\">\n",
       "  <thead>\n",
       "    <tr style=\"text-align: right;\">\n",
       "      <th></th>\n",
       "      <th>brand</th>\n",
       "      <th>description</th>\n",
       "      <th>price</th>\n",
       "      <th>colour</th>\n",
       "    </tr>\n",
       "  </thead>\n",
       "  <tbody>\n",
       "    <tr>\n",
       "      <th>737</th>\n",
       "      <td>New Girl Order Tall</td>\n",
       "      <td>Sudadera de chándal con diseño tie dye de New ...</td>\n",
       "      <td>8,50 €</td>\n",
       "      <td>Teñido efecto anudado multicolor</td>\n",
       "    </tr>\n",
       "    <tr>\n",
       "      <th>738</th>\n",
       "      <td>Topshop</td>\n",
       "      <td>Sudadera salvia limpia con capucha de Topshop</td>\n",
       "      <td>32,25 €</td>\n",
       "      <td>Verde</td>\n",
       "    </tr>\n",
       "    <tr>\n",
       "      <th>739</th>\n",
       "      <td>New Look</td>\n",
       "      <td>Sudadera amarillo claro con texto estampado 'H...</td>\n",
       "      <td>11,50 €</td>\n",
       "      <td>Amarillo claro</td>\n",
       "    </tr>\n",
       "    <tr>\n",
       "      <th>740</th>\n",
       "      <td>New Girl Order Petite</td>\n",
       "      <td>Sudadera corta azul efecto tie dye con capucha...</td>\n",
       "      <td>24,00 €</td>\n",
       "      <td>Azul</td>\n",
       "    </tr>\n",
       "    <tr>\n",
       "      <th>741</th>\n",
       "      <td>New Girl Order Curve</td>\n",
       "      <td>Sudadera de chándal con diseño tie dye de New ...</td>\n",
       "      <td>22,25 €</td>\n",
       "      <td>Violeta teñido</td>\n",
       "    </tr>\n",
       "  </tbody>\n",
       "</table>\n",
       "</div>"
      ],
      "text/plain": [
       "                     brand                                        description  \\\n",
       "737    New Girl Order Tall  Sudadera de chándal con diseño tie dye de New ...   \n",
       "738                Topshop      Sudadera salvia limpia con capucha de Topshop   \n",
       "739               New Look  Sudadera amarillo claro con texto estampado 'H...   \n",
       "740  New Girl Order Petite  Sudadera corta azul efecto tie dye con capucha...   \n",
       "741   New Girl Order Curve  Sudadera de chándal con diseño tie dye de New ...   \n",
       "\n",
       "       price                            colour  \n",
       "737   8,50 €  Teñido efecto anudado multicolor  \n",
       "738  32,25 €                             Verde  \n",
       "739  11,50 €                    Amarillo claro  \n",
       "740  24,00 €                              Azul  \n",
       "741  22,25 €                    Violeta teñido  "
      ]
     },
     "execution_count": 58,
     "metadata": {},
     "output_type": "execute_result"
    }
   ],
   "source": [
    "asos_raw=asos_womenshirt2_data\n",
    "\n",
    "thedf2=[[row[\"brandName\"], row[\"name\"],  row[\"price\"][\"current\"][\"text\"], row[\"colour\"]] for row in asos_raw]\n",
    "color_df2=pd.DataFrame(thedf2,columns=[\"brand\", \"description\", \"price\", \"colour\"])\n",
    "color_df2.tail()"
   ]
  }
 ],
 "metadata": {
  "kernelspec": {
   "display_name": "env37",
   "language": "python",
   "name": "env37"
  },
  "language_info": {
   "codemirror_mode": {
    "name": "ipython",
    "version": 3
   },
   "file_extension": ".py",
   "mimetype": "text/x-python",
   "name": "python",
   "nbconvert_exporter": "python",
   "pygments_lexer": "ipython3",
   "version": "3.7.16"
  }
 },
 "nbformat": 4,
 "nbformat_minor": 5
}
